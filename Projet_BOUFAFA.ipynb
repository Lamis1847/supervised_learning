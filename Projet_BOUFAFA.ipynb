{
 "cells": [
  {
   "cell_type": "code",
   "execution_count": 1,
   "id": "09b6c2ae-db26-4692-ac75-17b4b2554af7",
   "metadata": {
    "id": "09b6c2ae-db26-4692-ac75-17b4b2554af7"
   },
   "outputs": [],
   "source": [
    "import pandas as pd\n",
    "import numpy as np\n",
    "import pandas as pd\n",
    "from sklearn.model_selection import train_test_split\n",
    "from sklearn.preprocessing import StandardScaler, OneHotEncoder\n",
    "from sklearn.compose import ColumnTransformer\n",
    "from sklearn.pipeline import Pipeline\n",
    "from sklearn.impute import SimpleImputer\n",
    "from sklearn.ensemble import RandomForestClassifier, GradientBoostingClassifier, AdaBoostClassifier\n",
    "from sklearn.tree import DecisionTreeClassifier\n",
    "from sklearn.neighbors import KNeighborsClassifier\n",
    "from sklearn.linear_model import LogisticRegression\n",
    "from sklearn.svm import SVC\n",
    "from sklearn.naive_bayes import GaussianNB\n",
    "from sklearn.discriminant_analysis import LinearDiscriminantAnalysis, QuadraticDiscriminantAnalysis\n",
    "from sklearn.metrics import accuracy_score, precision_score, recall_score, f1_score, mean_squared_error\n",
    "from sklearn.feature_selection import mutual_info_regression\n",
    "from sklearn.feature_selection import mutual_info_classif\n",
    "import matplotlib.pyplot as plt\n",
    "from sklearn.preprocessing import LabelEncoder\n",
    "import seaborn as sns"
   ]
  },
  {
   "cell_type": "markdown",
   "id": "b9a909e7-9cb5-40ce-a9a1-8072446d967b",
   "metadata": {
    "id": "b9a909e7-9cb5-40ce-a9a1-8072446d967b"
   },
   "source": [
    "# Première partie : Application de différents algorithmes sur le dataset des Crédits bancaires"
   ]
  },
  {
   "cell_type": "markdown",
   "id": "8c96c16c-d180-4da8-81b8-0a0fa86aaf4f",
   "metadata": {
    "id": "8c96c16c-d180-4da8-81b8-0a0fa86aaf4f"
   },
   "source": [
    "## 1 - Récupération du dataset"
   ]
  },
  {
   "cell_type": "code",
   "execution_count": 2,
   "id": "d9021cac-a2e1-4a29-b8c0-94b5fb7bfc64",
   "metadata": {
    "id": "d9021cac-a2e1-4a29-b8c0-94b5fb7bfc64"
   },
   "outputs": [],
   "source": [
    "column_names = [\n",
    "    \"Statut du compte courant existant\", \"Durée en mois\", \"Historique de crédit\",\n",
    "    \"Objectif\", \"Montant du crédit\", \"Compte d'épargne\", \"Emploi actuel depuis\",\n",
    "    \"Taux de versement en, pourcentage du revenu disponible\",\n",
    "    \"Statut personnel et sexe\", \"Autres débiteurs\", \"Résidence actuelle depuis\",\n",
    "    \"Propriété\", \"Age en années\", \"Autres plans de versement\", \"Logement\",\n",
    "    \"Nombre de crédits existants dans cette banque\", \"Travail\",\n",
    "    \"Nombre de personnes à charge\", \"Téléphone\", \"Travailleur étranger\",\"Client_Bon\"\n",
    "]"
   ]
  },
  {
   "cell_type": "code",
   "execution_count": 3,
   "id": "e7b6c3b3-3e2f-44eb-aed6-541b7d43d2c4",
   "metadata": {
    "id": "e7b6c3b3-3e2f-44eb-aed6-541b7d43d2c4"
   },
   "outputs": [],
   "source": [
    "url = \"https://raw.githubusercontent.com/jbrownlee/Datasets/master/german.csv\"\n",
    "dataset = pd.read_csv(url, header=None)\n",
    "dataset.columns = column_names"
   ]
  },
  {
   "cell_type": "code",
   "execution_count": 4,
   "id": "fb3846df-75b5-4eb9-9335-85a6191e2368",
   "metadata": {
    "colab": {
     "base_uri": "https://localhost:8080/",
     "height": 343
    },
    "id": "fb3846df-75b5-4eb9-9335-85a6191e2368",
    "outputId": "e98e50f8-d988-4e60-bb6e-63d37dca28de"
   },
   "outputs": [
    {
     "data": {
      "text/html": [
       "<div>\n",
       "<style scoped>\n",
       "    .dataframe tbody tr th:only-of-type {\n",
       "        vertical-align: middle;\n",
       "    }\n",
       "\n",
       "    .dataframe tbody tr th {\n",
       "        vertical-align: top;\n",
       "    }\n",
       "\n",
       "    .dataframe thead th {\n",
       "        text-align: right;\n",
       "    }\n",
       "</style>\n",
       "<table border=\"1\" class=\"dataframe\">\n",
       "  <thead>\n",
       "    <tr style=\"text-align: right;\">\n",
       "      <th></th>\n",
       "      <th>Statut du compte courant existant</th>\n",
       "      <th>Durée en mois</th>\n",
       "      <th>Historique de crédit</th>\n",
       "      <th>Objectif</th>\n",
       "      <th>Montant du crédit</th>\n",
       "      <th>Compte d'épargne</th>\n",
       "      <th>Emploi actuel depuis</th>\n",
       "      <th>Taux de versement en, pourcentage du revenu disponible</th>\n",
       "      <th>Statut personnel et sexe</th>\n",
       "      <th>Autres débiteurs</th>\n",
       "      <th>...</th>\n",
       "      <th>Propriété</th>\n",
       "      <th>Age en années</th>\n",
       "      <th>Autres plans de versement</th>\n",
       "      <th>Logement</th>\n",
       "      <th>Nombre de crédits existants dans cette banque</th>\n",
       "      <th>Travail</th>\n",
       "      <th>Nombre de personnes à charge</th>\n",
       "      <th>Téléphone</th>\n",
       "      <th>Travailleur étranger</th>\n",
       "      <th>Client_Bon</th>\n",
       "    </tr>\n",
       "  </thead>\n",
       "  <tbody>\n",
       "    <tr>\n",
       "      <th>0</th>\n",
       "      <td>A11</td>\n",
       "      <td>6</td>\n",
       "      <td>A34</td>\n",
       "      <td>A43</td>\n",
       "      <td>1169</td>\n",
       "      <td>A65</td>\n",
       "      <td>A75</td>\n",
       "      <td>4</td>\n",
       "      <td>A93</td>\n",
       "      <td>A101</td>\n",
       "      <td>...</td>\n",
       "      <td>A121</td>\n",
       "      <td>67</td>\n",
       "      <td>A143</td>\n",
       "      <td>A152</td>\n",
       "      <td>2</td>\n",
       "      <td>A173</td>\n",
       "      <td>1</td>\n",
       "      <td>A192</td>\n",
       "      <td>A201</td>\n",
       "      <td>1</td>\n",
       "    </tr>\n",
       "    <tr>\n",
       "      <th>1</th>\n",
       "      <td>A12</td>\n",
       "      <td>48</td>\n",
       "      <td>A32</td>\n",
       "      <td>A43</td>\n",
       "      <td>5951</td>\n",
       "      <td>A61</td>\n",
       "      <td>A73</td>\n",
       "      <td>2</td>\n",
       "      <td>A92</td>\n",
       "      <td>A101</td>\n",
       "      <td>...</td>\n",
       "      <td>A121</td>\n",
       "      <td>22</td>\n",
       "      <td>A143</td>\n",
       "      <td>A152</td>\n",
       "      <td>1</td>\n",
       "      <td>A173</td>\n",
       "      <td>1</td>\n",
       "      <td>A191</td>\n",
       "      <td>A201</td>\n",
       "      <td>2</td>\n",
       "    </tr>\n",
       "    <tr>\n",
       "      <th>2</th>\n",
       "      <td>A14</td>\n",
       "      <td>12</td>\n",
       "      <td>A34</td>\n",
       "      <td>A46</td>\n",
       "      <td>2096</td>\n",
       "      <td>A61</td>\n",
       "      <td>A74</td>\n",
       "      <td>2</td>\n",
       "      <td>A93</td>\n",
       "      <td>A101</td>\n",
       "      <td>...</td>\n",
       "      <td>A121</td>\n",
       "      <td>49</td>\n",
       "      <td>A143</td>\n",
       "      <td>A152</td>\n",
       "      <td>1</td>\n",
       "      <td>A172</td>\n",
       "      <td>2</td>\n",
       "      <td>A191</td>\n",
       "      <td>A201</td>\n",
       "      <td>1</td>\n",
       "    </tr>\n",
       "    <tr>\n",
       "      <th>3</th>\n",
       "      <td>A11</td>\n",
       "      <td>42</td>\n",
       "      <td>A32</td>\n",
       "      <td>A42</td>\n",
       "      <td>7882</td>\n",
       "      <td>A61</td>\n",
       "      <td>A74</td>\n",
       "      <td>2</td>\n",
       "      <td>A93</td>\n",
       "      <td>A103</td>\n",
       "      <td>...</td>\n",
       "      <td>A122</td>\n",
       "      <td>45</td>\n",
       "      <td>A143</td>\n",
       "      <td>A153</td>\n",
       "      <td>1</td>\n",
       "      <td>A173</td>\n",
       "      <td>2</td>\n",
       "      <td>A191</td>\n",
       "      <td>A201</td>\n",
       "      <td>1</td>\n",
       "    </tr>\n",
       "    <tr>\n",
       "      <th>4</th>\n",
       "      <td>A11</td>\n",
       "      <td>24</td>\n",
       "      <td>A33</td>\n",
       "      <td>A40</td>\n",
       "      <td>4870</td>\n",
       "      <td>A61</td>\n",
       "      <td>A73</td>\n",
       "      <td>3</td>\n",
       "      <td>A93</td>\n",
       "      <td>A101</td>\n",
       "      <td>...</td>\n",
       "      <td>A124</td>\n",
       "      <td>53</td>\n",
       "      <td>A143</td>\n",
       "      <td>A153</td>\n",
       "      <td>2</td>\n",
       "      <td>A173</td>\n",
       "      <td>2</td>\n",
       "      <td>A191</td>\n",
       "      <td>A201</td>\n",
       "      <td>2</td>\n",
       "    </tr>\n",
       "  </tbody>\n",
       "</table>\n",
       "<p>5 rows × 21 columns</p>\n",
       "</div>"
      ],
      "text/plain": [
       "  Statut du compte courant existant  Durée en mois Historique de crédit  \\\n",
       "0                               A11              6                  A34   \n",
       "1                               A12             48                  A32   \n",
       "2                               A14             12                  A34   \n",
       "3                               A11             42                  A32   \n",
       "4                               A11             24                  A33   \n",
       "\n",
       "  Objectif  Montant du crédit Compte d'épargne Emploi actuel depuis  \\\n",
       "0      A43               1169              A65                  A75   \n",
       "1      A43               5951              A61                  A73   \n",
       "2      A46               2096              A61                  A74   \n",
       "3      A42               7882              A61                  A74   \n",
       "4      A40               4870              A61                  A73   \n",
       "\n",
       "   Taux de versement en, pourcentage du revenu disponible  \\\n",
       "0                                                  4        \n",
       "1                                                  2        \n",
       "2                                                  2        \n",
       "3                                                  2        \n",
       "4                                                  3        \n",
       "\n",
       "  Statut personnel et sexe Autres débiteurs  ...  Propriété Age en années  \\\n",
       "0                      A93             A101  ...       A121            67   \n",
       "1                      A92             A101  ...       A121            22   \n",
       "2                      A93             A101  ...       A121            49   \n",
       "3                      A93             A103  ...       A122            45   \n",
       "4                      A93             A101  ...       A124            53   \n",
       "\n",
       "   Autres plans de versement Logement  \\\n",
       "0                       A143     A152   \n",
       "1                       A143     A152   \n",
       "2                       A143     A152   \n",
       "3                       A143     A153   \n",
       "4                       A143     A153   \n",
       "\n",
       "  Nombre de crédits existants dans cette banque  Travail  \\\n",
       "0                                             2     A173   \n",
       "1                                             1     A173   \n",
       "2                                             1     A172   \n",
       "3                                             1     A173   \n",
       "4                                             2     A173   \n",
       "\n",
       "  Nombre de personnes à charge  Téléphone Travailleur étranger Client_Bon  \n",
       "0                            1       A192                 A201          1  \n",
       "1                            1       A191                 A201          2  \n",
       "2                            2       A191                 A201          1  \n",
       "3                            2       A191                 A201          1  \n",
       "4                            2       A191                 A201          2  \n",
       "\n",
       "[5 rows x 21 columns]"
      ]
     },
     "execution_count": 4,
     "metadata": {},
     "output_type": "execute_result"
    }
   ],
   "source": [
    "dataset.head()"
   ]
  },
  {
   "cell_type": "code",
   "execution_count": 5,
   "id": "e04fc377-b640-4af8-b12b-383541e4cb0d",
   "metadata": {
    "colab": {
     "base_uri": "https://localhost:8080/"
    },
    "id": "e04fc377-b640-4af8-b12b-383541e4cb0d",
    "outputId": "0ed86e2a-61c7-4b1a-bfa5-ac84c4e6b73d"
   },
   "outputs": [
    {
     "data": {
      "text/plain": [
       "0    0\n",
       "1    1\n",
       "2    0\n",
       "3    0\n",
       "4    1\n",
       "Name: Client_Bon, dtype: int64"
      ]
     },
     "execution_count": 5,
     "metadata": {},
     "output_type": "execute_result"
    }
   ],
   "source": [
    "# On modifie le target pour avoir 0 et 1 au lieu de 1 et 2\n",
    "dataset[\"Client_Bon\"] = dataset[\"Client_Bon\"] -1\n",
    "dataset[\"Client_Bon\"].head()"
   ]
  },
  {
   "cell_type": "code",
   "execution_count": 6,
   "id": "b3531fc0-46d6-4fbc-bc7b-3db4face2c97",
   "metadata": {
    "id": "b3531fc0-46d6-4fbc-bc7b-3db4face2c97"
   },
   "outputs": [],
   "source": [
    "# On récupère la cible\n",
    "y = dataset.pop(\"Client_Bon\")"
   ]
  },
  {
   "cell_type": "code",
   "execution_count": 7,
   "id": "ee70dfc0-f52e-4112-b0f8-d16aff7eac99",
   "metadata": {
    "id": "ee70dfc0-f52e-4112-b0f8-d16aff7eac99"
   },
   "outputs": [],
   "source": [
    "# On divise le dataset en variables qualtitavies et quantitatives\n",
    "variables_quantitatives = dataset.select_dtypes(include=['int64', 'float64'])\n",
    "variables_qualitatives = dataset.select_dtypes(include=['object'])\n"
   ]
  },
  {
   "cell_type": "markdown",
   "id": "eb563351-3e03-4b54-97b4-70f6614b7cc7",
   "metadata": {
    "id": "eb563351-3e03-4b54-97b4-70f6614b7cc7"
   },
   "source": [
    "## Etude de la variable cible (équilibrée ou non ?)\n",
    "\n",
    "\n"
   ]
  },
  {
   "cell_type": "markdown",
   "id": "fabf6a14-63bc-4200-b963-de6c52a2bdb4",
   "metadata": {
    "id": "fabf6a14-63bc-4200-b963-de6c52a2bdb4"
   },
   "source": [
    "# 2 - Etude du data set"
   ]
  },
  {
   "cell_type": "code",
   "execution_count": 8,
   "id": "9b069c2c-b5dc-43a4-bb82-48dad5a2d03d",
   "metadata": {
    "colab": {
     "base_uri": "https://localhost:8080/",
     "height": 472
    },
    "id": "9b069c2c-b5dc-43a4-bb82-48dad5a2d03d",
    "outputId": "43eda54e-25b4-4ba8-d8f2-f2e82517817b"
   },
   "outputs": [
    {
     "data": {
      "image/png": "[encoded data removed]",
      "text/plain": [
       "<Figure size 640x480 with 1 Axes>"
      ]
     },
     "metadata": {},
     "output_type": "display_data"
    }
   ],
   "source": [
    "# D'aprés le graphe on remarque que notre dataset est désiquilibré, ce qui implique l'utlisation des valeurs de la matrice de confusion pour intepréter nos résultats car dans ce cas\n",
    "# le rapport de bonnes prédicition ne suffit pas\n",
    "\n",
    "counts = y.value_counts()\n",
    "\n",
    "# Tracer le barplot\n",
    "plt.bar(counts.index, counts.values)\n",
    "\n",
    "# Ajouter des étiquettes et un titre\n",
    "plt.xlabel('Valeurs uniques de y')\n",
    "plt.ylabel('Nombre d\\'occurrences')\n",
    "plt.title('Barplot des valeurs uniques de y')\n",
    "\n",
    "# Afficher le graphique\n",
    "plt.show()"
   ]
  },
  {
   "cell_type": "markdown",
   "id": "9459238e-116e-406f-9e06-a3fc0a853563",
   "metadata": {
    "id": "9459238e-116e-406f-9e06-a3fc0a853563"
   },
   "source": [
    "## 2.1 Etude des variables quantitatives"
   ]
  },
  {
   "cell_type": "code",
   "execution_count": 9,
   "id": "e89dd9c6-2827-4288-acab-3a3672e514b8",
   "metadata": {
    "colab": {
     "base_uri": "https://localhost:8080/",
     "height": 224
    },
    "id": "e89dd9c6-2827-4288-acab-3a3672e514b8",
    "outputId": "9c5347b9-bdd1-47f0-9933-9eb6ab78e71e"
   },
   "outputs": [
    {
     "data": {
      "text/html": [
       "<div>\n",
       "<style scoped>\n",
       "    .dataframe tbody tr th:only-of-type {\n",
       "        vertical-align: middle;\n",
       "    }\n",
       "\n",
       "    .dataframe tbody tr th {\n",
       "        vertical-align: top;\n",
       "    }\n",
       "\n",
       "    .dataframe thead th {\n",
       "        text-align: right;\n",
       "    }\n",
       "</style>\n",
       "<table border=\"1\" class=\"dataframe\">\n",
       "  <thead>\n",
       "    <tr style=\"text-align: right;\">\n",
       "      <th></th>\n",
       "      <th>Durée en mois</th>\n",
       "      <th>Montant du crédit</th>\n",
       "      <th>Taux de versement en, pourcentage du revenu disponible</th>\n",
       "      <th>Résidence actuelle depuis</th>\n",
       "      <th>Age en années</th>\n",
       "      <th>Nombre de crédits existants dans cette banque</th>\n",
       "      <th>Nombre de personnes à charge</th>\n",
       "    </tr>\n",
       "  </thead>\n",
       "  <tbody>\n",
       "    <tr>\n",
       "      <th>0</th>\n",
       "      <td>6</td>\n",
       "      <td>1169</td>\n",
       "      <td>4</td>\n",
       "      <td>4</td>\n",
       "      <td>67</td>\n",
       "      <td>2</td>\n",
       "      <td>1</td>\n",
       "    </tr>\n",
       "    <tr>\n",
       "      <th>1</th>\n",
       "      <td>48</td>\n",
       "      <td>5951</td>\n",
       "      <td>2</td>\n",
       "      <td>2</td>\n",
       "      <td>22</td>\n",
       "      <td>1</td>\n",
       "      <td>1</td>\n",
       "    </tr>\n",
       "    <tr>\n",
       "      <th>2</th>\n",
       "      <td>12</td>\n",
       "      <td>2096</td>\n",
       "      <td>2</td>\n",
       "      <td>3</td>\n",
       "      <td>49</td>\n",
       "      <td>1</td>\n",
       "      <td>2</td>\n",
       "    </tr>\n",
       "    <tr>\n",
       "      <th>3</th>\n",
       "      <td>42</td>\n",
       "      <td>7882</td>\n",
       "      <td>2</td>\n",
       "      <td>4</td>\n",
       "      <td>45</td>\n",
       "      <td>1</td>\n",
       "      <td>2</td>\n",
       "    </tr>\n",
       "    <tr>\n",
       "      <th>4</th>\n",
       "      <td>24</td>\n",
       "      <td>4870</td>\n",
       "      <td>3</td>\n",
       "      <td>4</td>\n",
       "      <td>53</td>\n",
       "      <td>2</td>\n",
       "      <td>2</td>\n",
       "    </tr>\n",
       "  </tbody>\n",
       "</table>\n",
       "</div>"
      ],
      "text/plain": [
       "   Durée en mois  Montant du crédit  \\\n",
       "0              6               1169   \n",
       "1             48               5951   \n",
       "2             12               2096   \n",
       "3             42               7882   \n",
       "4             24               4870   \n",
       "\n",
       "   Taux de versement en, pourcentage du revenu disponible  \\\n",
       "0                                                  4        \n",
       "1                                                  2        \n",
       "2                                                  2        \n",
       "3                                                  2        \n",
       "4                                                  3        \n",
       "\n",
       "   Résidence actuelle depuis  Age en années  \\\n",
       "0                          4             67   \n",
       "1                          2             22   \n",
       "2                          3             49   \n",
       "3                          4             45   \n",
       "4                          4             53   \n",
       "\n",
       "   Nombre de crédits existants dans cette banque  Nombre de personnes à charge  \n",
       "0                                              2                             1  \n",
       "1                                              1                             1  \n",
       "2                                              1                             2  \n",
       "3                                              1                             2  \n",
       "4                                              2                             2  "
      ]
     },
     "execution_count": 9,
     "metadata": {},
     "output_type": "execute_result"
    }
   ],
   "source": [
    "variables_quantitatives.head(5)"
   ]
  },
  {
   "cell_type": "code",
   "execution_count": 10,
   "id": "dc31a179-026d-4d89-9eb1-de07e33dc532",
   "metadata": {
    "colab": {
     "base_uri": "https://localhost:8080/"
    },
    "id": "dc31a179-026d-4d89-9eb1-de07e33dc532",
    "outputId": "bebea178-1413-4296-bc1c-dab7d0c26b6f"
   },
   "outputs": [
    {
     "name": "stdout",
     "output_type": "stream",
     "text": [
      "Durée en mois                                             0\n",
      "Montant du crédit                                         0\n",
      "Taux de versement en, pourcentage du revenu disponible    0\n",
      "Résidence actuelle depuis                                 0\n",
      "Age en années                                             0\n",
      "Nombre de crédits existants dans cette banque             0\n",
      "Nombre de personnes à charge                              0\n",
      "dtype: int64\n"
     ]
    }
   ],
   "source": [
    "# On verifie les valeurs manquates\n",
    "print(variables_quantitatives.isnull().sum())"
   ]
  },
  {
   "cell_type": "code",
   "execution_count": 11,
   "id": "25344ed8-3e1c-48aa-a097-f3d753cc00f6",
   "metadata": {
    "colab": {
     "base_uri": "https://localhost:8080/",
     "height": 318
    },
    "id": "25344ed8-3e1c-48aa-a097-f3d753cc00f6",
    "outputId": "25c7cec8-608f-4512-dc28-608394d61a0e"
   },
   "outputs": [
    {
     "data": {
      "text/html": [
       "<div>\n",
       "<style scoped>\n",
       "    .dataframe tbody tr th:only-of-type {\n",
       "        vertical-align: middle;\n",
       "    }\n",
       "\n",
       "    .dataframe tbody tr th {\n",
       "        vertical-align: top;\n",
       "    }\n",
       "\n",
       "    .dataframe thead th {\n",
       "        text-align: right;\n",
       "    }\n",
       "</style>\n",
       "<table border=\"1\" class=\"dataframe\">\n",
       "  <thead>\n",
       "    <tr style=\"text-align: right;\">\n",
       "      <th></th>\n",
       "      <th>Durée en mois</th>\n",
       "      <th>Montant du crédit</th>\n",
       "      <th>Taux de versement en, pourcentage du revenu disponible</th>\n",
       "      <th>Résidence actuelle depuis</th>\n",
       "      <th>Age en années</th>\n",
       "      <th>Nombre de crédits existants dans cette banque</th>\n",
       "      <th>Nombre de personnes à charge</th>\n",
       "    </tr>\n",
       "  </thead>\n",
       "  <tbody>\n",
       "    <tr>\n",
       "      <th>count</th>\n",
       "      <td>1000.000000</td>\n",
       "      <td>1000.000000</td>\n",
       "      <td>1000.000000</td>\n",
       "      <td>1000.000000</td>\n",
       "      <td>1000.000000</td>\n",
       "      <td>1000.000000</td>\n",
       "      <td>1000.000000</td>\n",
       "    </tr>\n",
       "    <tr>\n",
       "      <th>mean</th>\n",
       "      <td>20.903000</td>\n",
       "      <td>3271.258000</td>\n",
       "      <td>2.973000</td>\n",
       "      <td>2.845000</td>\n",
       "      <td>35.546000</td>\n",
       "      <td>1.407000</td>\n",
       "      <td>1.155000</td>\n",
       "    </tr>\n",
       "    <tr>\n",
       "      <th>std</th>\n",
       "      <td>12.058814</td>\n",
       "      <td>2822.736876</td>\n",
       "      <td>1.118715</td>\n",
       "      <td>1.103718</td>\n",
       "      <td>11.375469</td>\n",
       "      <td>0.577654</td>\n",
       "      <td>0.362086</td>\n",
       "    </tr>\n",
       "    <tr>\n",
       "      <th>min</th>\n",
       "      <td>4.000000</td>\n",
       "      <td>250.000000</td>\n",
       "      <td>1.000000</td>\n",
       "      <td>1.000000</td>\n",
       "      <td>19.000000</td>\n",
       "      <td>1.000000</td>\n",
       "      <td>1.000000</td>\n",
       "    </tr>\n",
       "    <tr>\n",
       "      <th>25%</th>\n",
       "      <td>12.000000</td>\n",
       "      <td>1365.500000</td>\n",
       "      <td>2.000000</td>\n",
       "      <td>2.000000</td>\n",
       "      <td>27.000000</td>\n",
       "      <td>1.000000</td>\n",
       "      <td>1.000000</td>\n",
       "    </tr>\n",
       "    <tr>\n",
       "      <th>50%</th>\n",
       "      <td>18.000000</td>\n",
       "      <td>2319.500000</td>\n",
       "      <td>3.000000</td>\n",
       "      <td>3.000000</td>\n",
       "      <td>33.000000</td>\n",
       "      <td>1.000000</td>\n",
       "      <td>1.000000</td>\n",
       "    </tr>\n",
       "    <tr>\n",
       "      <th>75%</th>\n",
       "      <td>24.000000</td>\n",
       "      <td>3972.250000</td>\n",
       "      <td>4.000000</td>\n",
       "      <td>4.000000</td>\n",
       "      <td>42.000000</td>\n",
       "      <td>2.000000</td>\n",
       "      <td>1.000000</td>\n",
       "    </tr>\n",
       "    <tr>\n",
       "      <th>max</th>\n",
       "      <td>72.000000</td>\n",
       "      <td>18424.000000</td>\n",
       "      <td>4.000000</td>\n",
       "      <td>4.000000</td>\n",
       "      <td>75.000000</td>\n",
       "      <td>4.000000</td>\n",
       "      <td>2.000000</td>\n",
       "    </tr>\n",
       "  </tbody>\n",
       "</table>\n",
       "</div>"
      ],
      "text/plain": [
       "       Durée en mois  Montant du crédit  \\\n",
       "count    1000.000000        1000.000000   \n",
       "mean       20.903000        3271.258000   \n",
       "std        12.058814        2822.736876   \n",
       "min         4.000000         250.000000   \n",
       "25%        12.000000        1365.500000   \n",
       "50%        18.000000        2319.500000   \n",
       "75%        24.000000        3972.250000   \n",
       "max        72.000000       18424.000000   \n",
       "\n",
       "       Taux de versement en, pourcentage du revenu disponible  \\\n",
       "count                                        1000.000000        \n",
       "mean                                            2.973000        \n",
       "std                                             1.118715        \n",
       "min                                             1.000000        \n",
       "25%                                             2.000000        \n",
       "50%                                             3.000000        \n",
       "75%                                             4.000000        \n",
       "max                                             4.000000        \n",
       "\n",
       "       Résidence actuelle depuis  Age en années  \\\n",
       "count                1000.000000    1000.000000   \n",
       "mean                    2.845000      35.546000   \n",
       "std                     1.103718      11.375469   \n",
       "min                     1.000000      19.000000   \n",
       "25%                     2.000000      27.000000   \n",
       "50%                     3.000000      33.000000   \n",
       "75%                     4.000000      42.000000   \n",
       "max                     4.000000      75.000000   \n",
       "\n",
       "       Nombre de crédits existants dans cette banque  \\\n",
       "count                                    1000.000000   \n",
       "mean                                        1.407000   \n",
       "std                                         0.577654   \n",
       "min                                         1.000000   \n",
       "25%                                         1.000000   \n",
       "50%                                         1.000000   \n",
       "75%                                         2.000000   \n",
       "max                                         4.000000   \n",
       "\n",
       "       Nombre de personnes à charge  \n",
       "count                   1000.000000  \n",
       "mean                       1.155000  \n",
       "std                        0.362086  \n",
       "min                        1.000000  \n",
       "25%                        1.000000  \n",
       "50%                        1.000000  \n",
       "75%                        1.000000  \n",
       "max                        2.000000  "
      ]
     },
     "execution_count": 11,
     "metadata": {},
     "output_type": "execute_result"
    }
   ],
   "source": [
    "# Les statistiques sur les variables quantitatives\n",
    "variables_quantitatives.describe()"
   ]
  },
  {
   "cell_type": "code",
   "execution_count": 12,
   "id": "797f8381-065b-4b93-afee-bb7df0de7483",
   "metadata": {
    "colab": {
     "base_uri": "https://localhost:8080/",
     "height": 599
    },
    "id": "797f8381-065b-4b93-afee-bb7df0de7483",
    "outputId": "50344557-da8e-44cd-ee33-251ad7a8a3c6"
   },
   "outputs": [
    {
     "name": "stdout",
     "output_type": "stream",
     "text": [
      "[0.02149641 0.01514764 0.00973649 0.00815035 0.01215051 0.00862355\n",
      " 0.00854222]\n"
     ]
    },
    {
     "data": {
      "image/png": "[encoded data removed]",
      "text/plain": [
       "<Figure size 1200x600 with 1 Axes>"
      ]
     },
     "metadata": {},
     "output_type": "display_data"
    }
   ],
   "source": [
    "# Pour voir l'effet de chaque variable sur la cible y, on peut afficher les scores de  mutual information, qui est basée sur la notion de l'entropy entre chaque variables et la cible y\n",
    "\n",
    "# Créer un dataframe avec les scores d'information mutuelle\n",
    "\n",
    "nombre_iterations = 1000\n",
    "mi_scores_array = np.ndarray((nombre_iterations,7))\n",
    "\n",
    "# On calcule nombre_iterations=1000 fois les scores et on prend la moyenne\n",
    "for i in range(nombre_iterations):\n",
    "    mi_scores = mutual_info_regression(variables_quantitatives, y)\n",
    "    mi_scores_array[i,:] = np.array(mi_scores)\n",
    "\n",
    "average_mi_scores = np.mean(mi_scores_array, axis=0)\n",
    "print(average_mi_scores)\n",
    "\n",
    "mi_df = pd.DataFrame({'Variable': variables_quantitatives.columns, 'MI Score': average_mi_scores})\n",
    "\n",
    "# Afficher un barplot des résultats\n",
    "plt.figure(figsize=(12, 6))\n",
    "plt.barh(mi_df['Variable'], mi_df['MI Score'])\n",
    "plt.xlabel('Information Mutuelle')\n",
    "plt.title('Information Mutuelle entre les Variables et la Cible (y)')\n",
    "plt.show()"
   ]
  },
  {
   "cell_type": "markdown",
   "id": "e7aecd67-1567-48fa-a07a-ed0f59e67c6f",
   "metadata": {
    "id": "e7aecd67-1567-48fa-a07a-ed0f59e67c6f"
   },
   "source": [
    "## Interprétation\n",
    "\n"
   ]
  },
  {
   "cell_type": "markdown",
   "id": "bd2ed620-7353-4cc5-b658-38c928ec606a",
   "metadata": {
    "id": "bd2ed620-7353-4cc5-b658-38c928ec606a"
   },
   "source": [
    "Afin d'analyser l'ensemble de nos variables quantitatives, nous avons effectué les tests suivants :  \n",
    "\n",
    "1.   Calcul du nombre de valeurs Null.\n",
    "2.   Description des variables.\n",
    "3.   Mesure de l'indépendence mutuelle entre chaque variable quantitative et la variable cible.\n",
    "\n",
    "\n",
    "\n",
    "\n",
    "\n",
    "**1.**  D'abord, pour le 1er Test, nous remarquons qu'aucune variable ne contient des valeurs nulles. Ce qui semble a priori positif.\n",
    "\n",
    "**2.**  De plus, d'après la description du 2ème test, nous constatons que :\n",
    "\n",
    "\n",
    "*   Il y a 1000 observations dans l'échantillon.\n",
    "*   En moyenne, les prêts ont une durée de 20.9 mois avec un montant de 3271.26 unités. Les emprunteurs consacrent en moyenne 2.97% de leur revenu disponible au remboursement. La population étudiée a en moyenne 1.41 crédit existant dans cette banque, avec une durée de résidence d'environ 2.85 ans et un âge moyen de 35.55 ans.\n",
    "*    Les valeurs minimales, maximales et les quartiles fournissent des insights sur la variabilité et la distribution des données.\n",
    "\n",
    "\n",
    "**3.**  **L'information mutuelle** est une mesure de la dépendance entre les variables, et une valeur élevée indique une relation forte et utile pour la prédiction. Dans notre cas, et pour chaque variable, ça signifie comme suit :\n",
    "\n",
    "*   **Durée en mois :**Une varibale importante pour déterminer si un client est considéré comme \"bon\" ou \"mauvais\". Il se peut que la durée du crédit soit liée à la stabilité financière du client.\n",
    "\n",
    "*   **Montant du crédit :** Une valeur d'IM significative montrant que le montant du crédit accordé a une certaine influence sur la catégorisation du client.\n",
    "\n",
    "*   **Taux de versement en pourcentage du revenu disponible :** Bien que moins influente, cette variable contribue toujours à la prédiction de la qualité du client. Cela pourrait signifier que le taux de versement par rapport au revenu disponible peut influencer la fiabilité du client.\n",
    "\n",
    "*   **Résidence actuelle depuis :** Cette variable a la plus faible IM ce qui indique que la durée de résidence actuelle est moins cruciale pour prédire si un client est \"bon\" ou \"mauvais\".\n",
    "\n",
    "*   **Age en années :** Une valeur d'IM élevée et bien considérable qui montre que l'âge est un facteur important dans la catégorisation du client. Il se peut que des clients plus jeunes ou plus âgés présentent différents niveaux de risque.\n",
    "\n",
    "*   **Nombre de crédits existants dans cette banque :** Avec une information mutuelle relativement faible, cette variable contribue moins à la prédiction de la qualité du client. Le nombre de crédits existants dans cette banque peut ne pas être un indicateur fort de la fiabilité du client.\n",
    "\n",
    "*   **Nombre de personnes à charge :** une IM modérée, suggérant qu'elle a une certaine influence sur la catégorisation du client en \"bon\" ou \"mauvais\", bien que moins que d'autres variables.\n",
    "\n",
    "D'aprés les résultats, toutes les varaiables quantitative ont une relation statistique  signficative avec la cible y, par conséquent la selection de variable n'est pas nécessaire."
   ]
  },
  {
   "cell_type": "markdown",
   "id": "e7072bbf-628a-470c-932c-3ee4d6523358",
   "metadata": {
    "id": "e7072bbf-628a-470c-932c-3ee4d6523358"
   },
   "source": [
    "## 2.2Etude des variables qualitatives"
   ]
  },
  {
   "cell_type": "code",
   "execution_count": 13,
   "id": "1a151539-58ae-46ed-b2b0-be2589e946b7",
   "metadata": {
    "colab": {
     "base_uri": "https://localhost:8080/",
     "height": 224
    },
    "id": "1a151539-58ae-46ed-b2b0-be2589e946b7",
    "outputId": "c21db176-7e10-4c2b-d2e2-f2fd326c141c"
   },
   "outputs": [
    {
     "data": {
      "text/html": [
       "<div>\n",
       "<style scoped>\n",
       "    .dataframe tbody tr th:only-of-type {\n",
       "        vertical-align: middle;\n",
       "    }\n",
       "\n",
       "    .dataframe tbody tr th {\n",
       "        vertical-align: top;\n",
       "    }\n",
       "\n",
       "    .dataframe thead th {\n",
       "        text-align: right;\n",
       "    }\n",
       "</style>\n",
       "<table border=\"1\" class=\"dataframe\">\n",
       "  <thead>\n",
       "    <tr style=\"text-align: right;\">\n",
       "      <th></th>\n",
       "      <th>Statut du compte courant existant</th>\n",
       "      <th>Historique de crédit</th>\n",
       "      <th>Objectif</th>\n",
       "      <th>Compte d'épargne</th>\n",
       "      <th>Emploi actuel depuis</th>\n",
       "      <th>Statut personnel et sexe</th>\n",
       "      <th>Autres débiteurs</th>\n",
       "      <th>Propriété</th>\n",
       "      <th>Autres plans de versement</th>\n",
       "      <th>Logement</th>\n",
       "      <th>Travail</th>\n",
       "      <th>Téléphone</th>\n",
       "      <th>Travailleur étranger</th>\n",
       "    </tr>\n",
       "  </thead>\n",
       "  <tbody>\n",
       "    <tr>\n",
       "      <th>0</th>\n",
       "      <td>A11</td>\n",
       "      <td>A34</td>\n",
       "      <td>A43</td>\n",
       "      <td>A65</td>\n",
       "      <td>A75</td>\n",
       "      <td>A93</td>\n",
       "      <td>A101</td>\n",
       "      <td>A121</td>\n",
       "      <td>A143</td>\n",
       "      <td>A152</td>\n",
       "      <td>A173</td>\n",
       "      <td>A192</td>\n",
       "      <td>A201</td>\n",
       "    </tr>\n",
       "    <tr>\n",
       "      <th>1</th>\n",
       "      <td>A12</td>\n",
       "      <td>A32</td>\n",
       "      <td>A43</td>\n",
       "      <td>A61</td>\n",
       "      <td>A73</td>\n",
       "      <td>A92</td>\n",
       "      <td>A101</td>\n",
       "      <td>A121</td>\n",
       "      <td>A143</td>\n",
       "      <td>A152</td>\n",
       "      <td>A173</td>\n",
       "      <td>A191</td>\n",
       "      <td>A201</td>\n",
       "    </tr>\n",
       "    <tr>\n",
       "      <th>2</th>\n",
       "      <td>A14</td>\n",
       "      <td>A34</td>\n",
       "      <td>A46</td>\n",
       "      <td>A61</td>\n",
       "      <td>A74</td>\n",
       "      <td>A93</td>\n",
       "      <td>A101</td>\n",
       "      <td>A121</td>\n",
       "      <td>A143</td>\n",
       "      <td>A152</td>\n",
       "      <td>A172</td>\n",
       "      <td>A191</td>\n",
       "      <td>A201</td>\n",
       "    </tr>\n",
       "    <tr>\n",
       "      <th>3</th>\n",
       "      <td>A11</td>\n",
       "      <td>A32</td>\n",
       "      <td>A42</td>\n",
       "      <td>A61</td>\n",
       "      <td>A74</td>\n",
       "      <td>A93</td>\n",
       "      <td>A103</td>\n",
       "      <td>A122</td>\n",
       "      <td>A143</td>\n",
       "      <td>A153</td>\n",
       "      <td>A173</td>\n",
       "      <td>A191</td>\n",
       "      <td>A201</td>\n",
       "    </tr>\n",
       "    <tr>\n",
       "      <th>4</th>\n",
       "      <td>A11</td>\n",
       "      <td>A33</td>\n",
       "      <td>A40</td>\n",
       "      <td>A61</td>\n",
       "      <td>A73</td>\n",
       "      <td>A93</td>\n",
       "      <td>A101</td>\n",
       "      <td>A124</td>\n",
       "      <td>A143</td>\n",
       "      <td>A153</td>\n",
       "      <td>A173</td>\n",
       "      <td>A191</td>\n",
       "      <td>A201</td>\n",
       "    </tr>\n",
       "  </tbody>\n",
       "</table>\n",
       "</div>"
      ],
      "text/plain": [
       "  Statut du compte courant existant Historique de crédit Objectif  \\\n",
       "0                               A11                  A34      A43   \n",
       "1                               A12                  A32      A43   \n",
       "2                               A14                  A34      A46   \n",
       "3                               A11                  A32      A42   \n",
       "4                               A11                  A33      A40   \n",
       "\n",
       "  Compte d'épargne Emploi actuel depuis Statut personnel et sexe  \\\n",
       "0              A65                  A75                      A93   \n",
       "1              A61                  A73                      A92   \n",
       "2              A61                  A74                      A93   \n",
       "3              A61                  A74                      A93   \n",
       "4              A61                  A73                      A93   \n",
       "\n",
       "  Autres débiteurs Propriété Autres plans de versement Logement Travail  \\\n",
       "0             A101      A121                      A143     A152    A173   \n",
       "1             A101      A121                      A143     A152    A173   \n",
       "2             A101      A121                      A143     A152    A172   \n",
       "3             A103      A122                      A143     A153    A173   \n",
       "4             A101      A124                      A143     A153    A173   \n",
       "\n",
       "  Téléphone Travailleur étranger  \n",
       "0      A192                 A201  \n",
       "1      A191                 A201  \n",
       "2      A191                 A201  \n",
       "3      A191                 A201  \n",
       "4      A191                 A201  "
      ]
     },
     "execution_count": 13,
     "metadata": {},
     "output_type": "execute_result"
    }
   ],
   "source": [
    "variables_qualitatives.head(5)"
   ]
  },
  {
   "cell_type": "code",
   "execution_count": 14,
   "id": "fc50457b-c25b-4f22-8f1b-2a667b69e4c1",
   "metadata": {
    "colab": {
     "base_uri": "https://localhost:8080/"
    },
    "id": "fc50457b-c25b-4f22-8f1b-2a667b69e4c1",
    "outputId": "3d61bdbe-d70c-40e6-e79b-06711e549fc0"
   },
   "outputs": [
    {
     "name": "stdout",
     "output_type": "stream",
     "text": [
      "Statut du compte courant existant    0\n",
      "Historique de crédit                 0\n",
      "Objectif                             0\n",
      "Compte d'épargne                     0\n",
      "Emploi actuel depuis                 0\n",
      "Statut personnel et sexe             0\n",
      "Autres débiteurs                     0\n",
      "Propriété                            0\n",
      "Autres plans de versement            0\n",
      "Logement                             0\n",
      "Travail                              0\n",
      "Téléphone                            0\n",
      "Travailleur étranger                 0\n",
      "dtype: int64\n"
     ]
    }
   ],
   "source": [
    "# On verifie les valeurs manquates\n",
    "print(variables_qualitatives.isnull().sum())"
   ]
  },
  {
   "cell_type": "code",
   "execution_count": 15,
   "id": "42956d6a-4f18-48f4-a88f-6372e821e42e",
   "metadata": {
    "colab": {
     "base_uri": "https://localhost:8080/",
     "height": 1000
    },
    "id": "42956d6a-4f18-48f4-a88f-6372e821e42e",
    "outputId": "a8476ebd-6ed1-4159-cacb-3d90c54a0645"
   },
   "outputs": [
    {
     "data": {
      "image/png": "[encoded data removed]",
      "text/plain": [
       "<Figure size 2000x1500 with 13 Axes>"
      ]
     },
     "metadata": {},
     "output_type": "display_data"
    }
   ],
   "source": [
    "# On affiche les classes de chaque variable qualitative sous forme d'un count plot.\n",
    "# On peut remarquer que la majorité des variables ont des valeurs déiquilibrées.\n",
    "# Cet affichage pourra nous aider dans l'intèrprétation des résultats des différents algorithmes\n",
    "\n",
    "# Configurer le style des graphiques\n",
    "sns.set(style=\"whitegrid\")\n",
    "\n",
    "# Créer des barplots pour chaque valeur des variables qualitatives\n",
    "plt.figure(figsize=(20, 15))\n",
    "\n",
    "for i, col in enumerate(variables_qualitatives.columns, 1):\n",
    "    plt.subplot(4, 4, i)\n",
    "    sns.countplot(x=col, data=dataset)\n",
    "    plt.title(f'Count plot for {col}')\n",
    "\n",
    "plt.tight_layout()\n",
    "plt.show()"
   ]
  },
  {
   "cell_type": "code",
   "execution_count": 16,
   "id": "b2dc2230-6f35-41cc-8f0f-4e503d958c2c",
   "metadata": {
    "colab": {
     "base_uri": "https://localhost:8080/",
     "height": 625
    },
    "id": "b2dc2230-6f35-41cc-8f0f-4e503d958c2c",
    "outputId": "1865c051-f98d-4597-f8b4-77459479780f"
   },
   "outputs": [
    {
     "name": "stdout",
     "output_type": "stream",
     "text": [
      "[0.06439252 0.02892416 0.00686812 0.00911247 0.00954509 0.00725153\n",
      " 0.00650896 0.01051258 0.00855859 0.01069302 0.00469986 0.00540682\n",
      " 0.00780153]\n"
     ]
    },
    {
     "data": {
      "image/png": "[encoded data removed]",
      "text/plain": [
       "<Figure size 1200x600 with 1 Axes>"
      ]
     },
     "metadata": {},
     "output_type": "display_data"
    }
   ],
   "source": [
    "# Pour voir l'effet de chaque variable sur la cible y, on peut afficher les scores de  mutual information, qui est basée sur la notion de l'entropy entre chaque variable et la cible y\n",
    "\n",
    "# Encodage des variables qualitatives\n",
    "X = variables_qualitatives.copy()\n",
    "for colname in X.select_dtypes(\"object\"):\n",
    "    X[colname], _ = X[colname].factorize()\n",
    "\n",
    "# On calcule 1000 fois les scores et on prend la moyenne\n",
    "nombre_iterations = 1000\n",
    "mutual_info_values = np.ndarray((nombre_iterations,13))\n",
    "for i in range(nombre_iterations):\n",
    "    mi_scores = mutual_info_classif(X, y)\n",
    "    mutual_info_values[i,:] = np.array(mi_scores)\n",
    "\n",
    "average_mutual_info = np.mean(mutual_info_values, axis=0)\n",
    "\n",
    "# Créer un dataframe avec les scores d'information mutuelle\n",
    "mi_df = pd.DataFrame({'Variable': variables_qualitatives.columns, 'MI Score': average_mutual_info})\n",
    "print(average_mutual_info)\n",
    "# Afficher un barplot des résultats\n",
    "plt.figure(figsize=(12, 6))\n",
    "plt.barh(mi_df['Variable'], mi_df['MI Score'])\n",
    "plt.xlabel('Information Mutuelle')\n",
    "plt.title('Information Mutuelle entre les Variables et la Cible (y)')\n",
    "plt.show()\n",
    "\n"
   ]
  },
  {
   "cell_type": "markdown",
   "id": "021962fc-d2dc-4224-acc0-e61b2169e0bd",
   "metadata": {
    "id": "021962fc-d2dc-4224-acc0-e61b2169e0bd"
   },
   "source": [
    "### Intèprétation"
   ]
  },
  {
   "cell_type": "markdown",
   "id": "8c1628b3-5724-4440-944a-6291ec36d250",
   "metadata": {
    "id": "8c1628b3-5724-4440-944a-6291ec36d250"
   },
   "source": [
    "Afin d'analyser l'ensemble de nos variables qualitatives, nous avons effectué les tests suivants :  \n",
    "\n",
    "1.   Calcul du nombre de valeurs Null.\n",
    "2.   Affichage des catégories de chaque variable qualitative sous forme d'un count plot.\n",
    "3.   Mesure de l'indépendence mutuelle entre chaque variable qualitative et la variable cible.\n",
    "\n",
    "\n",
    "\n",
    "\n",
    "\n",
    "**1.**  D'abord, pour le 1er Test, nous remarquons qu'aucune variable qualitative ne contient des valeurs nulles. Ce qui semble a priori positif.\n",
    "\n",
    "\n",
    "**2.**  Ensuite, pour le 2eme Test, nous remarquons que :\n",
    "\n",
    "*   Presque toutes les variables qualitatives ont un déséquilibre dans leur nombre de catégories (imbalance).\n",
    "\n",
    "*   Les variables [**\"Travailleur étranger\"** , **\"Travail\"** , **\"Logement\"** , **\"Autres plans de versement\"** , **\"Autres débiteurs\"**, **\"Statut personnel et sexe\"** , **\"Compte d'épargne\"** , **\"Historique\"** ] ont un déséquilibre intense de valeurs.\n",
    "\n",
    "*   Le reste des variables sont plus équilibrés en termes de catégories que les variables passées.\n",
    "\n",
    "**3.**  Enfin, pour le 3eme Test, et d'après les mesures d'information mutuelle notées pour chaque variable qualitative, nous observons comme suit :\n",
    "\n",
    "\n",
    "\n",
    "*   **Statut du compte courant existant :** Une information mutuelle (IM) élevée ce qui indique que le type de compte courant peut fortement influencer la probabilité qu'un client soit considéré comme \"bon\" ou \"mauvais\".\n",
    "\n",
    "*   **Historique de crédit :** Avec une information mutuelle significative, l'historique de crédit est une variable importante. Cela confirme que les antécédents de crédit du client jouent un rôle essentiel dans la détermination de sa qualité.\n",
    "\n",
    "*  **Objectif :** Une information mutuelle relativement basse suggère que l'objectif peut avoir moins d'impact sur la catégorisation du client que les variables précédentes. Cela indique que d'autres variables peuvent être plus pertinentes pour prédire la qualité du client.\n",
    "\n",
    "*   **Compte d'épargne :** Bien que la valeur soit relativement faible, le compte d'épargne contribue toujours à la prédiction de la qualité du client.\n",
    "\n",
    "*   **Emploi actuel depuis :** Cette variable a une information mutuelle considérable, indiquant que la stabilité de l'emploi peut influencer la catégorisation du client en \"bon\" ou \"mauvais\".\n",
    "\n",
    "*   **Statut personnel et sexe :** Une faible valeur suggèrant que le statut personnel et le sexe ne contribuent pas vraiment dans la catégorisation du client.\n",
    "\n",
    "*   **Autres débiteurs :** Avec une IM relativement basse, la présence d'autres débiteurs semble moins cruciale pour la prédiction de la qualité du client.\n",
    "\n",
    "*   **Propriété :** avec une IM élevée est une variable importante. La nature de la propriété du client peut être un indicateur significatif de sa fiabilité.\n",
    "\n",
    "*   **Autres plans de versement :** Bien que la valeur soit relativement basse, cette variable contribue à la prédiction de la qualité du client. Il peut y avoir des différences dans les plans de versement en fonction de la qualité du client.\n",
    "\n",
    "*   **Logement :** Une IM considérable, donc le type de logement peut jouer un rôle important dans la détermination de la qualité du client.\n",
    "\n",
    "*   **Travail :** Selon sa faible IM, La variable Travail peut avoir moins d'influence sur la catégorisation du client.\n",
    "\n",
    "*   **Téléphone :** Une IM relativement basse suggère que la présence d'un téléphone a une influence moins significative sur la qualité du client.\n",
    "\n",
    "*   **Travailleur étranger :** IM relativement basse, le statut de travailleur étranger a une influence modérée sur la catégorisation du client.\n",
    "\n",
    "D'aprés les résultats, toutes les varaiables qualtitaives ont une relation statistique  signficative avec la cible y, par conséquent la selection de variable n'est pas nécessaire."
   ]
  },
  {
   "cell_type": "markdown",
   "id": "9cc2abf6-2984-4905-ad17-175aeba36b9a",
   "metadata": {
    "id": "9cc2abf6-2984-4905-ad17-175aeba36b9a"
   },
   "source": [
    "# 3 Application des différents algorithmes et affichage du tableau comparatif"
   ]
  },
  {
   "cell_type": "markdown",
   "id": "0bKlR90nlZ0x",
   "metadata": {
    "id": "0bKlR90nlZ0x"
   },
   "source": [
    "Afin de réaliser l'objectif de notre projet, nous avons implémenté les techniques d'apprentissage supervisé suivantes :\n",
    "\n",
    "*   **Régression Logistique :** Algorithme de classification binaire supervisée modélisant la probabilité d'appartenance d'une instance à une classe donnée. Il utilise une fonction logistique pour mapper des combinaisons linéaires des caractéristiques d'entrée en probabilités. Nous croyons que le choix de ce modèle s'adapte parfaitement à notre besoin de catégorisation binaire du client.\n",
    "\n",
    "*   **K-Nearest Neighbors (KNN) :** basé sur les instances où un point de données est classifié en fonction de la classe majoritaire de ses k voisins les plus proches. Le choix de 'k' détermine le niveau de lissage local des frontières de décision. Pour notre cas, nous avons défini k=3.\n",
    "\n",
    "\n",
    "*   **Decision Tree :** Modèle hiérarchique en forme d'arbre où chaque nœud interne représente une décision basée sur une caractéristique, et chaque nœud feuille représente le résultat. Il divise récursivement le jeu de données pour créer un arbre qui prédit la variable cible (qualité du client).\n",
    "\n",
    "*   **Random Forest :** Méthode d'ensemble qui construit plusieurs arbres de décision et combine leurs prédictions. Chaque arbre est formé sur un sous-ensemble aléatoire de caractéristiques et d'instances, réduisant le surajustement et améliorant la précision.\n",
    "\n",
    "*   **Gradient Boosting :** Technique d'ensemble qui construit des arbres de décision séquentiellement, chaque arbre corrigeant les erreurs des précédents. Elle combine des apprenants faibles pour créer un modèle prédictif puissant.\n",
    "\n",
    "*   **AdaBoost :** Algorithme de renforcement adaptatif qui combine plusieurs classificateurs faibles pour former un modèle robuste. Il attribue des poids aux instances mal classées, se concentrant sur leur amélioration lors des itérations suivantes.\n",
    "\n",
    "*   **Naive Bayes Gaussien :** Algorithme de classification probabiliste basé sur le théorème de Bayes. Il suppose l'indépendance conditionnelle des caractéristiques donné la classe, simplifiant les calculs. Souvent utilisé pour la classification de texte et le filtrage de spam.\n",
    "\n",
    "*   **Linear Discriminant Analysis (LDA) :** Technique de réduction de dimension et de classification. Elle trouve des combinaisons linéaires de caractéristiques qui séparent au mieux les classes tout en préservant la variance au sein de chaque classe.\n",
    "\n",
    "*   **Quadratic Discriminant Analysis (QDA) :** Similaire à LDA, mais sans supposer une covariance égale entre les classes. Elle offre plus de flexibilité en considérant des variances différentes pour chaque classe.\n",
    "\n",
    "*   **Linear SVM :** Algorithme de classification linéaire qui trouve l'hyperplan qui sépare au mieux les classes tout en maximisant la marge. Il vise à minimiser les erreurs de classification et à généraliser bien aux nouvelles données.\n",
    "\n",
    "*   **Non-Linear SVM :** SVM étendu pour traiter des relations non linéaires en utilisant une astuce de noyau pour mapper les caractéristiques d'entrée dans un espace de dimensions supérieures. Il trouve un hyperplan dans cet espace pour séparer efficacement les classes."
   ]
  },
  {
   "cell_type": "code",
   "execution_count": 17,
   "id": "50ef2b28-d788-4a5d-98c2-0def6f3d43fa",
   "metadata": {
    "colab": {
     "base_uri": "https://localhost:8080/",
     "height": 318
    },
    "id": "50ef2b28-d788-4a5d-98c2-0def6f3d43fa",
    "outputId": "e71f4057-0c31-41f3-bf97-c7eadb347a07"
   },
   "outputs": [
    {
     "data": {
      "text/html": [
       "<style type=\"text/css\">\n",
       "#T_294f7_row0_col4, #T_294f7_row1_col4, #T_294f7_row2_col3, #T_294f7_row3_col4, #T_294f7_row4_col5, #T_294f7_row5_col10, #T_294f7_row6_col6, #T_294f7_row7_col5 {\n",
       "  background-color: green;\n",
       "}\n",
       "#T_294f7_row0_col5, #T_294f7_row1_col5, #T_294f7_row2_col1, #T_294f7_row3_col6, #T_294f7_row4_col9, #T_294f7_row5_col9, #T_294f7_row6_col9, #T_294f7_row7_col9 {\n",
       "  background-color: yellow;\n",
       "}\n",
       "#T_294f7_row0_col8, #T_294f7_row1_col6, #T_294f7_row2_col8, #T_294f7_row3_col8, #T_294f7_row4_col3, #T_294f7_row4_col8, #T_294f7_row5_col8, #T_294f7_row6_col8, #T_294f7_row7_col8 {\n",
       "  background-color: red;\n",
       "}\n",
       "</style>\n",
       "<table id=\"T_294f7\">\n",
       "  <thead>\n",
       "    <tr>\n",
       "      <th class=\"blank level0\" >&nbsp;</th>\n",
       "      <th id=\"T_294f7_level0_col0\" class=\"col_heading level0 col0\" >Logistic Regression</th>\n",
       "      <th id=\"T_294f7_level0_col1\" class=\"col_heading level0 col1\" >K-Nearest Neighbors</th>\n",
       "      <th id=\"T_294f7_level0_col2\" class=\"col_heading level0 col2\" >Decision Tree</th>\n",
       "      <th id=\"T_294f7_level0_col3\" class=\"col_heading level0 col3\" >Random Forest</th>\n",
       "      <th id=\"T_294f7_level0_col4\" class=\"col_heading level0 col4\" >Gradient Boosting</th>\n",
       "      <th id=\"T_294f7_level0_col5\" class=\"col_heading level0 col5\" >AdaBoost</th>\n",
       "      <th id=\"T_294f7_level0_col6\" class=\"col_heading level0 col6\" >Gaussian Naive Bayes</th>\n",
       "      <th id=\"T_294f7_level0_col7\" class=\"col_heading level0 col7\" >Linear Discriminant Analysis</th>\n",
       "      <th id=\"T_294f7_level0_col8\" class=\"col_heading level0 col8\" >Quadratic Discriminant Analysis</th>\n",
       "      <th id=\"T_294f7_level0_col9\" class=\"col_heading level0 col9\" >Linear SVM</th>\n",
       "      <th id=\"T_294f7_level0_col10\" class=\"col_heading level0 col10\" >Non-Linear SVM</th>\n",
       "    </tr>\n",
       "  </thead>\n",
       "  <tbody>\n",
       "    <tr>\n",
       "      <th id=\"T_294f7_level0_row0\" class=\"row_heading level0 row0\" >Accuracy_train</th>\n",
       "      <td id=\"T_294f7_row0_col0\" class=\"data row0 col0\" >0.775000</td>\n",
       "      <td id=\"T_294f7_row0_col1\" class=\"data row0 col1\" >0.833750</td>\n",
       "      <td id=\"T_294f7_row0_col2\" class=\"data row0 col2\" >0.866250</td>\n",
       "      <td id=\"T_294f7_row0_col3\" class=\"data row0 col3\" >0.871250</td>\n",
       "      <td id=\"T_294f7_row0_col4\" class=\"data row0 col4\" >0.915000</td>\n",
       "      <td id=\"T_294f7_row0_col5\" class=\"data row0 col5\" >0.796250</td>\n",
       "      <td id=\"T_294f7_row0_col6\" class=\"data row0 col6\" >0.737500</td>\n",
       "      <td id=\"T_294f7_row0_col7\" class=\"data row0 col7\" >0.782500</td>\n",
       "      <td id=\"T_294f7_row0_col8\" class=\"data row0 col8\" >0.716250</td>\n",
       "      <td id=\"T_294f7_row0_col9\" class=\"data row0 col9\" >0.785000</td>\n",
       "      <td id=\"T_294f7_row0_col10\" class=\"data row0 col10\" >0.896250</td>\n",
       "    </tr>\n",
       "    <tr>\n",
       "      <th id=\"T_294f7_level0_row1\" class=\"row_heading level0 row1\" >Precision_train</th>\n",
       "      <td id=\"T_294f7_row1_col0\" class=\"data row1 col0\" >0.664865</td>\n",
       "      <td id=\"T_294f7_row1_col1\" class=\"data row1 col1\" >0.781250</td>\n",
       "      <td id=\"T_294f7_row1_col2\" class=\"data row1 col2\" >0.889535</td>\n",
       "      <td id=\"T_294f7_row1_col3\" class=\"data row1 col3\" >0.773810</td>\n",
       "      <td id=\"T_294f7_row1_col4\" class=\"data row1 col4\" >0.948187</td>\n",
       "      <td id=\"T_294f7_row1_col5\" class=\"data row1 col5\" >0.698980</td>\n",
       "      <td id=\"T_294f7_row1_col6\" class=\"data row1 col6\" >0.547988</td>\n",
       "      <td id=\"T_294f7_row1_col7\" class=\"data row1 col7\" >0.671795</td>\n",
       "      <td id=\"T_294f7_row1_col8\" class=\"data row1 col8\" >0.559322</td>\n",
       "      <td id=\"T_294f7_row1_col9\" class=\"data row1 col9\" >0.686486</td>\n",
       "      <td id=\"T_294f7_row1_col10\" class=\"data row1 col10\" >0.938889</td>\n",
       "    </tr>\n",
       "    <tr>\n",
       "      <th id=\"T_294f7_level0_row2\" class=\"row_heading level0 row2\" >Recall_train</th>\n",
       "      <td id=\"T_294f7_row2_col0\" class=\"data row2 col0\" >0.510373</td>\n",
       "      <td id=\"T_294f7_row2_col1\" class=\"data row2 col1\" >0.622407</td>\n",
       "      <td id=\"T_294f7_row2_col2\" class=\"data row2 col2\" >0.634855</td>\n",
       "      <td id=\"T_294f7_row2_col3\" class=\"data row2 col3\" >0.809129</td>\n",
       "      <td id=\"T_294f7_row2_col4\" class=\"data row2 col4\" >0.759336</td>\n",
       "      <td id=\"T_294f7_row2_col5\" class=\"data row2 col5\" >0.568465</td>\n",
       "      <td id=\"T_294f7_row2_col6\" class=\"data row2 col6\" >0.734440</td>\n",
       "      <td id=\"T_294f7_row2_col7\" class=\"data row2 col7\" >0.543568</td>\n",
       "      <td id=\"T_294f7_row2_col8\" class=\"data row2 col8\" >0.273859</td>\n",
       "      <td id=\"T_294f7_row2_col9\" class=\"data row2 col9\" >0.526971</td>\n",
       "      <td id=\"T_294f7_row2_col10\" class=\"data row2 col10\" >0.701245</td>\n",
       "    </tr>\n",
       "    <tr>\n",
       "      <th id=\"T_294f7_level0_row3\" class=\"row_heading level0 row3\" >F1 Score_train</th>\n",
       "      <td id=\"T_294f7_row3_col0\" class=\"data row3 col0\" >0.577465</td>\n",
       "      <td id=\"T_294f7_row3_col1\" class=\"data row3 col1\" >0.692841</td>\n",
       "      <td id=\"T_294f7_row3_col2\" class=\"data row3 col2\" >0.740920</td>\n",
       "      <td id=\"T_294f7_row3_col3\" class=\"data row3 col3\" >0.791075</td>\n",
       "      <td id=\"T_294f7_row3_col4\" class=\"data row3 col4\" >0.843318</td>\n",
       "      <td id=\"T_294f7_row3_col5\" class=\"data row3 col5\" >0.627002</td>\n",
       "      <td id=\"T_294f7_row3_col6\" class=\"data row3 col6\" >0.627660</td>\n",
       "      <td id=\"T_294f7_row3_col7\" class=\"data row3 col7\" >0.600917</td>\n",
       "      <td id=\"T_294f7_row3_col8\" class=\"data row3 col8\" >0.367688</td>\n",
       "      <td id=\"T_294f7_row3_col9\" class=\"data row3 col9\" >0.596244</td>\n",
       "      <td id=\"T_294f7_row3_col10\" class=\"data row3 col10\" >0.802850</td>\n",
       "    </tr>\n",
       "    <tr>\n",
       "      <th id=\"T_294f7_level0_row4\" class=\"row_heading level0 row4\" >Accuracy</th>\n",
       "      <td id=\"T_294f7_row4_col0\" class=\"data row4 col0\" >0.810000</td>\n",
       "      <td id=\"T_294f7_row4_col1\" class=\"data row4 col1\" >0.715000</td>\n",
       "      <td id=\"T_294f7_row4_col2\" class=\"data row4 col2\" >0.725000</td>\n",
       "      <td id=\"T_294f7_row4_col3\" class=\"data row4 col3\" >0.685000</td>\n",
       "      <td id=\"T_294f7_row4_col4\" class=\"data row4 col4\" >0.805000</td>\n",
       "      <td id=\"T_294f7_row4_col5\" class=\"data row4 col5\" >0.815000</td>\n",
       "      <td id=\"T_294f7_row4_col6\" class=\"data row4 col6\" >0.725000</td>\n",
       "      <td id=\"T_294f7_row4_col7\" class=\"data row4 col7\" >0.800000</td>\n",
       "      <td id=\"T_294f7_row4_col8\" class=\"data row4 col8\" >0.685000</td>\n",
       "      <td id=\"T_294f7_row4_col9\" class=\"data row4 col9\" >0.780000</td>\n",
       "      <td id=\"T_294f7_row4_col10\" class=\"data row4 col10\" >0.790000</td>\n",
       "    </tr>\n",
       "    <tr>\n",
       "      <th id=\"T_294f7_level0_row5\" class=\"row_heading level0 row5\" >Precision</th>\n",
       "      <td id=\"T_294f7_row5_col0\" class=\"data row5 col0\" >0.733333</td>\n",
       "      <td id=\"T_294f7_row5_col1\" class=\"data row5 col1\" >0.521739</td>\n",
       "      <td id=\"T_294f7_row5_col2\" class=\"data row5 col2\" >0.555556</td>\n",
       "      <td id=\"T_294f7_row5_col3\" class=\"data row5 col3\" >0.469697</td>\n",
       "      <td id=\"T_294f7_row5_col4\" class=\"data row5 col4\" >0.708333</td>\n",
       "      <td id=\"T_294f7_row5_col5\" class=\"data row5 col5\" >0.711538</td>\n",
       "      <td id=\"T_294f7_row5_col6\" class=\"data row5 col6\" >0.524390</td>\n",
       "      <td id=\"T_294f7_row5_col7\" class=\"data row5 col7\" >0.702128</td>\n",
       "      <td id=\"T_294f7_row5_col8\" class=\"data row5 col8\" >0.428571</td>\n",
       "      <td id=\"T_294f7_row5_col9\" class=\"data row5 col9\" >0.653061</td>\n",
       "      <td id=\"T_294f7_row5_col10\" class=\"data row5 col10\" >0.757576</td>\n",
       "    </tr>\n",
       "    <tr>\n",
       "      <th id=\"T_294f7_level0_row6\" class=\"row_heading level0 row6\" >Recall</th>\n",
       "      <td id=\"T_294f7_row6_col0\" class=\"data row6 col0\" >0.559322</td>\n",
       "      <td id=\"T_294f7_row6_col1\" class=\"data row6 col1\" >0.406780</td>\n",
       "      <td id=\"T_294f7_row6_col2\" class=\"data row6 col2\" >0.338983</td>\n",
       "      <td id=\"T_294f7_row6_col3\" class=\"data row6 col3\" >0.525424</td>\n",
       "      <td id=\"T_294f7_row6_col4\" class=\"data row6 col4\" >0.576271</td>\n",
       "      <td id=\"T_294f7_row6_col5\" class=\"data row6 col5\" >0.627119</td>\n",
       "      <td id=\"T_294f7_row6_col6\" class=\"data row6 col6\" >0.728814</td>\n",
       "      <td id=\"T_294f7_row6_col7\" class=\"data row6 col7\" >0.559322</td>\n",
       "      <td id=\"T_294f7_row6_col8\" class=\"data row6 col8\" >0.203390</td>\n",
       "      <td id=\"T_294f7_row6_col9\" class=\"data row6 col9\" >0.542373</td>\n",
       "      <td id=\"T_294f7_row6_col10\" class=\"data row6 col10\" >0.423729</td>\n",
       "    </tr>\n",
       "    <tr>\n",
       "      <th id=\"T_294f7_level0_row7\" class=\"row_heading level0 row7\" >F1 Score</th>\n",
       "      <td id=\"T_294f7_row7_col0\" class=\"data row7 col0\" >0.634615</td>\n",
       "      <td id=\"T_294f7_row7_col1\" class=\"data row7 col1\" >0.457143</td>\n",
       "      <td id=\"T_294f7_row7_col2\" class=\"data row7 col2\" >0.421053</td>\n",
       "      <td id=\"T_294f7_row7_col3\" class=\"data row7 col3\" >0.496000</td>\n",
       "      <td id=\"T_294f7_row7_col4\" class=\"data row7 col4\" >0.635514</td>\n",
       "      <td id=\"T_294f7_row7_col5\" class=\"data row7 col5\" >0.666667</td>\n",
       "      <td id=\"T_294f7_row7_col6\" class=\"data row7 col6\" >0.609929</td>\n",
       "      <td id=\"T_294f7_row7_col7\" class=\"data row7 col7\" >0.622642</td>\n",
       "      <td id=\"T_294f7_row7_col8\" class=\"data row7 col8\" >0.275862</td>\n",
       "      <td id=\"T_294f7_row7_col9\" class=\"data row7 col9\" >0.592593</td>\n",
       "      <td id=\"T_294f7_row7_col10\" class=\"data row7 col10\" >0.543478</td>\n",
       "    </tr>\n",
       "  </tbody>\n",
       "</table>\n"
      ],
      "text/plain": [
       "<pandas.io.formats.style.Styler at 0x2508c70c2d0>"
      ]
     },
     "execution_count": 17,
     "metadata": {},
     "output_type": "execute_result"
    }
   ],
   "source": [
    "# Dans cette partie on applique les différents algorithmes de classification\n",
    "# Pour chaque algorithme on a décidé soit d'appliquer les données mixtes, soit les données quantitatives uniquement.\n",
    "# Pour faire cela il suffit de changer à coté de chaque algorithme soit \"all\" pour les données mixtes soit \"num\" pour les données numériqes seulement\n",
    "# Ces paramètres ont été choisis après plusieurs exécutions\n",
    "\n",
    "# On définit X comme suit\n",
    "X = dataset.copy()\n",
    "\n",
    "# Diviser les données en ensemble d'entraînement et ensemble de test de taille 10%\n",
    "X_train, X_test, y_train, y_test = train_test_split(X, y, test_size=0.2, random_state=42)\n",
    "\n",
    "# Créer des transformers pour les variables quantitatives et qualitatives\n",
    "numeric_features = variables_quantitatives.columns\n",
    "categorical_features = variables_qualitatives.columns\n",
    "#                Les données d'entrainement\n",
    "##########################################################################\n",
    "X_num  = X_train[numeric_features].copy()\n",
    "scaler = StandardScaler()\n",
    "X_num  = pd.DataFrame(scaler.fit_transform(X_num),columns=numeric_features)\n",
    "X_cat = X_train[categorical_features].copy()\n",
    "encoder = OneHotEncoder()    # On utlise le one hot encoder\n",
    "X_cat = encoder.fit_transform(X_cat).toarray()\n",
    "X_cat = pd.DataFrame(X_cat, columns=encoder.get_feature_names_out(categorical_features))\n",
    "scaler = StandardScaler()\n",
    "X_cat = pd.DataFrame(scaler.fit_transform(X_cat),columns=X_cat.columns)\n",
    "X_mixte = pd.concat([X_num,X_cat],axis=1)\n",
    "datasets = { \"all\" : X_mixte.values, \"num\" : X_num.values}\n",
    "\n",
    "#                  Les données de test\n",
    "#########################################################################\n",
    "X_num_test = X_test[numeric_features].copy()\n",
    "scaler_test = StandardScaler()\n",
    "X_num_test = pd.DataFrame(scaler_test.fit_transform(X_num_test), columns=numeric_features)\n",
    "\n",
    "X_cat_test = X_test[categorical_features].copy()\n",
    "X_cat_test = encoder.transform(X_cat_test).toarray()\n",
    "X_cat_test = pd.DataFrame(X_cat_test, columns=encoder.get_feature_names_out(categorical_features))\n",
    "scaler = StandardScaler()\n",
    "X_cat_test = pd.DataFrame(scaler.fit_transform(X_cat_test),columns=X_cat_test.columns)\n",
    "X_mixte_test = pd.concat([X_num_test, X_cat_test], axis=1)\n",
    "datasets_test = {\"all\": X_mixte_test.values, \"num\": X_num_test.values}\n",
    "##########################################################################\n",
    "# Créer un dataframe pour stocker les résultats\n",
    "performance_df = {}\n",
    "\n",
    "# Modèles, pour chaque modèle : \"all\" signifie données mixtes (quantitatives et qualitatives)\n",
    "#                               \"num\" signifie données numérique seulement\n",
    "models = [\n",
    "    ('Logistic Regression', LogisticRegression(random_state=42), 'all'),\n",
    "    ('K-Nearest Neighbors', KNeighborsClassifier(n_neighbors=3), 'all'),\n",
    "    ('Decision Tree', DecisionTreeClassifier(max_depth=7,random_state=42), 'all'),\n",
    "    ('Random Forest', RandomForestClassifier(n_estimators=1,random_state=42), 'all'),\n",
    "    ('Gradient Boosting', GradientBoostingClassifier(random_state=42), 'all'),\n",
    "    ('AdaBoost', AdaBoostClassifier(random_state=42), 'all'),\n",
    "    ('Gaussian Naive Bayes', GaussianNB(), 'all'),\n",
    "    ('Linear Discriminant Analysis', LinearDiscriminantAnalysis(), 'all'),\n",
    "    ('Quadratic Discriminant Analysis', QuadraticDiscriminantAnalysis(), 'num'),\n",
    "    ('Linear SVM', SVC(kernel='linear',random_state=42), 'all'),\n",
    "    ('Non-Linear SVM', SVC(kernel=\"rbf\",random_state=42), 'all')\n",
    "]\n",
    "\n",
    "# Boucle sur les modèles\n",
    "for model_name, model, feature_type in models:\n",
    "\n",
    "    # Entraîner le modèle sur l'ensemble d'entraînement\n",
    "    X_used = datasets[feature_type]\n",
    "    model.fit(X_used, y_train)\n",
    "    y_train_pred = model.predict(X_used)\n",
    "    X_test_used = datasets_test[feature_type]\n",
    "    # Faire des prédictions sur l'ensemble de test\n",
    "    y_pred = model.predict(X_test_used)\n",
    "\n",
    "    # Mesures de performance\n",
    "    accuracy = accuracy_score(y_test, y_pred)\n",
    "    precision = precision_score(y_test, y_pred)\n",
    "    recall = recall_score(y_test, y_pred)\n",
    "    f1 = f1_score(y_test, y_pred)\n",
    "\n",
    "    accuracy1 = accuracy_score(y_train, y_train_pred)\n",
    "    precision1 = precision_score(y_train, y_train_pred)\n",
    "    recall1 = recall_score(y_train, y_train_pred)\n",
    "    f11 = f1_score(y_train, y_train_pred)\n",
    "    # Stocker les résultats dans le dataframe\n",
    "    performance_df[model_name]={\n",
    "         'Accuracy_train': accuracy1,\n",
    "        'Precision_train': precision1,\n",
    "        'Recall_train': recall1,\n",
    "        'F1 Score_train': f11,\n",
    "        'Accuracy': accuracy,\n",
    "        'Precision': precision,\n",
    "        'Recall': recall,\n",
    "        'F1 Score': f1\n",
    "    }\n",
    "\n",
    "# Afficher le dataframe comparatif de performances\n",
    "performance_df = pd.DataFrame(performance_df)\n",
    "# Fonction pour colorer la cellule avec la valeur la plus élevée dans chaque ligne\n",
    "def highlight_max(s):\n",
    "    is_max = s == s.max()\n",
    "    return ['background-color: green' if v else '' for v in is_max]\n",
    "\n",
    "def highlight_min(s):\n",
    "    is_min = s == s.min()\n",
    "    return ['background-color: red' if v else '' for v in is_min]\n",
    "\n",
    "def highlight_mean(s):\n",
    "    is_mean = s == s.median()\n",
    "    return ['background-color: yellow' if v else '' for v in is_mean]\n",
    "\n",
    "performance_df = performance_df.style.apply(highlight_max, axis=1).apply(highlight_min, axis=1).apply(highlight_mean, axis=1)\n",
    "\n",
    "performance_df\n",
    "# On affiche le résultat pour chaque modèle, les performances sont measurées sur le dataset d'entrainement et du test\n",
    "# Les cases vertes représentent le modèle qui a obtenu le score le plus haut selon la mesure  correspondante"
   ]
  },
  {
   "cell_type": "markdown",
   "id": "Y4jDZweDEbhT",
   "metadata": {
    "id": "Y4jDZweDEbhT"
   },
   "source": [
    "# Tests et Résultats"
   ]
  },
  {
   "cell_type": "markdown",
   "id": "yH_HE2Lw5jUm",
   "metadata": {
    "id": "yH_HE2Lw5jUm"
   },
   "source": [
    "## **Démarche de Tests**"
   ]
  },
  {
   "cell_type": "markdown",
   "id": "JN43yCY_h2C-",
   "metadata": {
    "id": "JN43yCY_h2C-"
   },
   "source": [
    "Afin de bien interpréter les résultats, nous avons visualisé le tableau comparatif ci-dessous en mesurant la performance d'entrainement (Accuracy_train, Precision_train, Recall_train,F1 Score_train) et de test (Accuracy, Precision, Recall,F1 Score) de chaque modèle implémenté.\n",
    "\n",
    "Dans le but de bien comprendre le comportement et la robustesse de chaque modèle, nous  indiquons dans notre tableau des indicateurs statistiques de comparaison où :     \n",
    "*    La couleur verte indique une valeur maximale de la mesure de performance.\n",
    "*    La couleur rouge indique une valeur minimale.\n",
    "*    La couleur jaune indique la valeur médiane."
   ]
  },
  {
   "cell_type": "markdown",
   "id": "a_jSQctf5scJ",
   "metadata": {
    "id": "a_jSQctf5scJ"
   },
   "source": [
    "## **Observations, Analyse et Interprétation**"
   ]
  },
  {
   "cell_type": "markdown",
   "id": "hQVOJ61JHD8S",
   "metadata": {
    "id": "hQVOJ61JHD8S"
   },
   "source": [
    "### **Observation 1 : Quadratic Discriminant Analysis (QDA)**"
   ]
  },
  {
   "cell_type": "markdown",
   "id": "jMLvWD80HH-N",
   "metadata": {
    "id": "jMLvWD80HH-N"
   },
   "source": [
    "**Le modèle Quadratic Discriminant Analysis (QDA)** affiche les performances les plus faibles et les plus médiocres (pour toutes les mesures de performance) à la fois dans les ensembles d'apprentissage et de test, ce qui signifie qu'il fait un grand nombre de prédictions faussement positives et faussement négatives, et qu'il a donc du mal à capturer les instances pertinentes dans les données. Nous analysons ceci comme suit :\n",
    "\n",
    "  *   **Overfitting :** Le modèle QDA est nettement plus performant sur les données sur lesquelles il a été formé que sur les nouvelles données non vues. Cela suggère que le modèle QDA pourrait être surajusté par rapport aux données d'apprentissage.\n",
    "\n",
    "  *   **Faible rappel (Recall) :** Le modèle a du mal à identifier une grande partie des instances positives.\n",
    "\n",
    "  *   **Sensibilité des données :** La méthode QDA est appliquée uniquement aux données numériques (num). Ce choix peut avoir un impact sur ses performances par rapport aux autres modèles qui utilisent des données mixtes."
   ]
  },
  {
   "cell_type": "markdown",
   "id": "wh4XW91rHIeD",
   "metadata": {
    "id": "wh4XW91rHIeD"
   },
   "source": [
    "### **Observation 2 : Gradient Boosting**"
   ]
  },
  {
   "cell_type": "markdown",
   "id": "4KJDIY5m5gn1",
   "metadata": {
    "id": "4KJDIY5m5gn1"
   },
   "source": [
    "\n",
    "**L'algorithme Gradient Boosting**  montre des valeurs de performance maximales pour l'ensemble d'apprentissage, et des résultats très significatifs sur l'ensemble de test également. Nous concluons sur les points suivants :\n",
    "\n",
    "  *   **Généralisation :** Le Gradient Boosting démontre une excellente généralisation de l'ensemble de formation à l'ensemble de test, avec une précision élevée maintenue.\n",
    "\n",
    "  *   **Compromis précision-recall :** bien que la précision soit légèrement inférieure sur l'ensemble de test par rapport à l'ensemble de formation, le compromis est raisonnable, ce qui indique que le modèle est bien équilibré.\n",
    "\n",
    "  *   **Rappel (Recall) :** Le modèle maintient un rappel relativement élevé sur l'ensemble de test, capturant une partie substantielle des instances positives.\n",
    "\n",
    "  *   **Robustesse :** Le Gradient Boosting présente des performances constantes à travers plusieurs métriques, ce qui suggère sa robustesse et son adéquation à la tâche donnée.\n"
   ]
  },
  {
   "cell_type": "markdown",
   "id": "3chvs6PfHjYZ",
   "metadata": {
    "id": "3chvs6PfHjYZ"
   },
   "source": [
    "### **Observation 3 : AdaBoost**"
   ]
  },
  {
   "cell_type": "markdown",
   "id": "cDQUCupEHv8V",
   "metadata": {
    "id": "cDQUCupEHv8V"
   },
   "source": [
    "\n",
    "  Nous remarquons que **le modèle AdaBoost** a une valeur médiane de l'accuracy (0,796250) et de précision (0,698980) par rapport aux autres modèles. D'autre part, AdaBoost présente la meilleure et la maximale accuracy de test (0,815000) et le score F (0,666667) par rapport aux autres modèles. D'après ces résultats, nous observons clairement les points suivants :\n",
    "\n",
    "  *   **Généralisation :** AdaBoost présente une précision et un recall équilibrés, ce qui démontre une bonne généralisation de l'ensemble d'apprentissage à l'ensemble de test, avec une accuracy élevée maintenue.\n",
    "\n",
    "  *   **Équilibre entre la précision et le rappel :** Les valeurs de précision et de rappel sur l'ensemble de test sont bien équilibrées, indiquant un modèle bien ajusté.\n",
    "\n",
    "  *   **Robustesse :** AdaBoost se comporte de manière cohérente sur plusieurs métriques, suggérant sa pertinence pour la tâche donnée.\n",
    "\n",
    "  *   **Force de l'ensemble :** AdaBoost est un modèle d'ensemble qui combine plusieurs apprentissages faibles pour créer un apprenant fort. L'impact positif de la combinaison de plusieurs apprenants faibles sur notre ensemble de données est évident dans ses performances."
   ]
  },
  {
   "cell_type": "markdown",
   "id": "NuDp5TW7jrEl",
   "metadata": {
    "id": "NuDp5TW7jrEl"
   },
   "source": [
    "### **Observation 4 : Linear SVM**"
   ]
  },
  {
   "cell_type": "markdown",
   "id": "F7uUIKiBjq0q",
   "metadata": {
    "id": "F7uUIKiBjq0q"
   },
   "source": [
    "En ce qui concerne le modèle **SVM linéaire**, nous constatons une bonne accuracy, une bonne précision et un bon rappel sur les ensembles d'apprentissage et de test. Nous remarquons également que les mesures de performance de l'ensemble de test sont la médiane par rapport aux autres modèles, ce qui montre que le modèle est beaucoup plus équilibré par rapport au comportement d'autres modèles implémentés. De plus , notre Linear SVM ne présente aucun signe de surajustement et fonctionne bien avec des données mixtes. Nous constatons les conclusions suivantes :\n",
    "\n",
    "  *   **Généralisation :** Les SVM linéaires démontrent une bonne généralisation de l'ensemble d'apprentissage à l'ensemble de test, avec une légère diminution de la justesse.\n",
    "  *   **Équilibre entre précision et rappel :** Les valeurs de précision et de rappel sur l'ensemble de test sont relativement équilibrées, ce qui indique un compromis raisonnable entre la prédiction correcte d'instances positives et l'évitement des faux positifs. Ceci suggère qu'ils font des prédictions raisonnables pour les instances positives et négatives.\n",
    "  *   **Limite de décision linéaire :** le SVM linéaire crée une limite de décision qui sépare les classes de manière linéaire. Le modèle suppose que les classes peuvent être séparées par un hyperplan dans l'espace des caractéristiques.\n",
    "  *   **Robustesse face aux valeurs aberrantes :** Les SVM, y compris les SVM linéaires, peuvent être sensibles aux valeurs aberrantes car ils visent à trouver une limite de décision qui maximise la marge entre les classes."
   ]
  },
  {
   "cell_type": "markdown",
   "id": "xVjqIceU1A5o",
   "metadata": {
    "id": "xVjqIceU1A5o"
   },
   "source": [
    "### **Observation 5 : K-Nearest Neighbors, Random Forest, Non-Linear SVM, Decision Tree**"
   ]
  },
  {
   "cell_type": "markdown",
   "id": "hMDiIVC01IEt",
   "metadata": {
    "id": "hMDiIVC01IEt"
   },
   "source": [
    "Les modèles **K-Nearest Neighbors (KNN)**, **Random Forest**, **Decision Tree** et **Non-Linear SVM** les modèles subissent un ***`surajustement important (overfitting)`***.\n",
    "\n",
    "\n",
    "Pour le modèle **K-Nearest Neighbors (KNN)**, nous observons une grande accuracy sur l'ensemble d'apprentissage (83,38 %) mais une baisse modérée sur l'ensemble de test (71,50 %), ce qui suggère un surajustement potentiel (overfitting). Nous remarquons également que la précision et le rappel sont relativement équilibrés sur l'ensemble de test, ce qui indique un compromis raisonnable entre la prédiction correcte des instances positives et l'évitement des faux positifs.\n",
    "\n",
    "\n",
    "D'autre part, pour **Random Forest**, nous remarquons que l'accuracy de l'ensemble d'apprentissage est relativement élevée (87,13 %), avec une valeur maximale du recall sur l'ensemble d'apprentissage (en vert) mais que la justesse de l'ensemble de test a considérablement baissé (68,5 %). Le modèle Random Forest peut être surajusté (overfitted), en particulier si le nombre d'arbres n'est pas correctement réglé. La nature d'ensemble des forêts aléatoires permet souvent d'atténuer l'overfitting, mais un réglage minutieux est toujours nécessaire.\n",
    "\n",
    "\n",
    "\n",
    "De l'autre côté, Alors que les performances de l'ensemble d'apprentissage sont élevées (accuracy = 86.62%), pour le modèle **Decision Tree**, la baisse de l'accuracy sur l'ensemble de test (accuracy = 72.5%) indique un surajustement potentiel des données d'apprentissage.\n",
    "\n",
    "\n",
    "Enfin, pour le modèle **Non-Linear SVM**, nous observons une grande accuracy sur l'ensemble d'apprentissage (89,63 %), mais celle sur l'ensemble de test est considérablement faible (79 %). Les SVM non linéaires, en particulier avec des noyaux complexes sur des échantillons de données de moins complexité, peuvent être sujets à un surajustement s'ils ne sont pas correctement régularisés.\n"
   ]
  },
  {
   "cell_type": "markdown",
   "id": "l8xQl_ZzOhRO",
   "metadata": {
    "id": "l8xQl_ZzOhRO"
   },
   "source": [
    "De ce fait, afin de réduire le overfitting, nous énumérons les considérations communes entre ces 4 modèles suivantes :\n",
    "\n",
    "  *   **Complexité du modèle :** Le KNN, le SVM non linéaire, et le Decision Tree peuvent être sensibles au choix des hyperparamètres qui contrôlent la complexité du modèle. Random Forests, d'un autre côté, est constitué d'un ensemble d'arbres de décision qui, individuellement, peuvent être profonds et complexes. La nature de l'ensemble permet d'atténuer le surajustement, mais la profondeur des arbres individuels est un élément important à prendre en compte.\n",
    "\n",
    "  *   **Réglage des hyperparamètres :** Pour les quatre modèles, l'ajustement des hyperparamètres est crucial pour trouver le bon équilibre entre l'underfitting et l'overfitting. Cela inclut la profondeur maximale des arbres pour le Decision Tree, le nombre de voisins pour le KNN, la régularisation pour le SVM non linéaire, et divers paramètres pour les Random Forests.\n",
    "\n",
    "  *   **Échelle des données :** Le KNN est sensible à l'échelle des caractéristiques, d'où l'importance de la mise à l'échelle des caractéristiques. Les forêts aléatoires sont moins sensibles à la mise à l'échelle des caractéristiques, mais il s'agit toujours d'une bonne pratique. Les SVM non linéaires, en particulier avec certains noyaux, peuvent nécessiter une mise à l'échelle des caractéristiques. Pour le Decision Tree, la mise à l'échelle n'est généralement pas nécessaire, car la division des données se fait selon des seuils sur les caractéristiques, plutôt que sur les valeurs brutes.\n",
    "\n",
    "  *   **Sensibilité à l'overfitting :** Les quatre modèles peuvent montrer des signes d'overfitting, en particulier lorsque la complexité du modèle n'est pas correctement contrôlée. Pour le Decision Tree, la profondeur maximale doit être ajustée de manière appropriée pour éviter le surajustement."
   ]
  },
  {
   "cell_type": "markdown",
   "id": "77BmynkLUYHk",
   "metadata": {
    "id": "77BmynkLUYHk"
   },
   "source": [
    "### **Observation 6 : Gaussian Naive Bayes**"
   ]
  },
  {
   "cell_type": "markdown",
   "id": "Yd_r-yfuVnRa",
   "metadata": {
    "id": "Yd_r-yfuVnRa"
   },
   "source": [
    "Gaussian Naive Bayes affiche des performances décentes sur les ensembles d'apprentissage et de test, offrant un équilibre entre la précision et le rappel. Son efficacité sur les petits ensembles de données et sa robustesse aux caractéristiques non pertinentes en font un choix précieux dans ce scénario. Nous notons les points suivants :     \n",
    "\n",
    "  *   **Généralisation décente :** Le modèle se généralise moyennement bien de l'ensemble d'apprentissage à l'ensemble de test, avec une légère baisse des performances.\n",
    "\n",
    "  *   **Équilibre entre précision et rappel :** Le modèle atteint un équilibre raisonnable entre la précision et le rappel sur les ensembles d'apprentissage et de test. Aussi, le score F1 fournit une mesure d'évaluation équilibrée, prenant en compte à la fois les faux positifs et les faux négatifs.\n",
    "\n",
    "  *   **Efficacité sur les petits ensembles de données :** Gaussian Naive Bayes est connu pour son efficacité sur les petits ensembles de données, ce qui le rend adapté à notre cas avec des données limitées de 1000 points de données seulement.\n",
    "\n",
    "  *   **Robustesse face aux caractéristiques non pertinentes :**\n",
    "La méthode GNB est robuste aux caractéristiques non pertinentes en raison de l'hypothèse d'indépendance des caractéristiques, ce qui est précieux dans notre situation."
   ]
  },
  {
   "cell_type": "markdown",
   "id": "Yiu7NpxDcoPC",
   "metadata": {
    "id": "Yiu7NpxDcoPC"
   },
   "source": [
    "### **Observation 7 : Logistic Regression, Liner Discriminent Analysis (LDA)**"
   ]
  },
  {
   "cell_type": "markdown",
   "id": "mhy_l2_nc0s0",
   "metadata": {
    "id": "mhy_l2_nc0s0"
   },
   "source": [
    "Dans cette cellule, nous énumérons les observations et les considérations communes entre ces 2 modèles :\n",
    "\n",
    " **Logistic Regression :**\n",
    "\n",
    "La régression logistique présente une bonne généralisation, avec une accuracy relativement élevée sur l'ensemble de test (81%) par rapport à l'ensemble d'apprentissage. Nous remarquons également une précision et un rappel équilibrés, qui atteignent un équilibre raisonnable entre la précision et le rappel à la fois sur les ensembles d'apprentissage et de test. De même, le score F1 fournit une mesure d'évaluation équilibrée, prenant en compte à la fois les faux positifs et les faux négatifs. Et en termes d'interprétabilité, La régression logistique fournit des coefficients interprétables, permettant de comprendre l'impact de chaque caractéristique sur le logarithme de la variable réponse.\n",
    "\n",
    "  **Linear Discriminenet Analysis (LDA) :**\n",
    "\n",
    "Nous constatons des performances similaires à celles de la régression logistique. En d'autres termes, l'analyse discriminante linéaire (LDA) présente des performances similaires à celles de la régression logistique, avec une exactitude, une précision, un rappel et un score F1 comparables.\n",
    "\n",
    "  **Considérarions communes :**\n",
    "\n",
    "* **Performance et généralisation du modèle :** La régression logistique et l'analyse discriminante linéaire (LDA) démontrent toutes deux une bonne généralisation de l'ensemble d'apprentissage à l'ensemble de test, comme le montrent leurs scores de justesse élevés respectifs. Cela indique que les deux modèles ont capturé les modèles sous-jacents dans les données et sont capables de faire des prédictions raisonnables sur des cas non vus.\n",
    "\n",
    "* **Précision et rappel équilibrés :** Dans les deux modèles, il existe un compromis équilibré entre la précision et le rappel. Cet équilibre se reflète dans le score F1, qui fournit une mesure complète des performances du modèle prenant en compte à la fois les faux positifs et les faux négatifs. Les deux modèles atteignent un équilibre raisonnable, ce qui suggère qu'ils sont bien adaptés à notre tâche de classification binaire.\n",
    "\n",
    "* **Similitude des performances des ensembles d'entraînement et de test :** Les deux modèles présentent des performances relativement cohérentes entre les ensembles de formation et de test. Les différences mineures observées indiquent un ajustement bien équilibré, suggérant qu'aucun modèle n'est significativement surajusté ou sous-ajusté par rapport aux données.\n",
    "\n",
    "* **Applicabilité à la classification binaire :** La régression logistique et la LDA sont toutes deux bien adaptées aux tâches de classification binaire, comme le montrent leurs mesures de performance. Elles distinguent efficacement deux classes, ce qui en fait des choix appropriés lorsqu'il s'agit de variables de résultats binaires."
   ]
  },
  {
   "cell_type": "markdown",
   "id": "7e95cedc-3704-4063-846f-669f076468b5",
   "metadata": {
    "id": "7e95cedc-3704-4063-846f-669f076468b5"
   },
   "source": [
    "\n",
    "# Deuxième partie : Données relationnelles"
   ]
  },
  {
   "cell_type": "markdown",
   "id": "e178775d-d54e-41bb-a855-55c8acd1d100",
   "metadata": {
    "id": "e178775d-d54e-41bb-a855-55c8acd1d100"
   },
   "source": [
    "# 1 - Récupération de donnés"
   ]
  },
  {
   "cell_type": "code",
   "execution_count": 18,
   "id": "8e7588e1-cada-4d1f-8309-74d44da36c0a",
   "metadata": {
    "colab": {
     "base_uri": "https://localhost:8080/"
    },
    "id": "8e7588e1-cada-4d1f-8309-74d44da36c0a",
    "outputId": "ebb1b5be-d663-44a7-ad64-6097b54f7ffc"
   },
   "outputs": [
    {
     "data": {
      "text/plain": [
       "((2708, 1433), (2708, 1433), (2708, 1))"
      ]
     },
     "execution_count": 18,
     "metadata": {},
     "output_type": "execute_result"
    }
   ],
   "source": [
    "from scipy.io import loadmat\n",
    "\n",
    "# Charger le fichier .mat\n",
    "mat_data = loadmat('Donnees_relationnelles/cora.mat')\n",
    "# Récupérer les matrices W,X et classes\n",
    "W_matrix = mat_data[\"W\"]\n",
    "X_matrix = mat_data[\"fea\"]\n",
    "classes = mat_data[\"gnd\"]\n",
    "X_matrix.shape,X_matrix.shape ,classes.shape"
   ]
  },
  {
   "cell_type": "markdown",
   "id": "499e91e9-ed10-4b70-acd2-eb687e479b6e",
   "metadata": {
    "id": "499e91e9-ed10-4b70-acd2-eb687e479b6e"
   },
   "source": [
    "## 2 - Comparaison des méthodes en utlisant  la matrice X seulement"
   ]
  },
  {
   "cell_type": "code",
   "execution_count": 19,
   "id": "5d19083e-02b6-474f-816b-e878f952f351",
   "metadata": {
    "colab": {
     "base_uri": "https://localhost:8080/",
     "height": 352
    },
    "id": "5d19083e-02b6-474f-816b-e878f952f351",
    "outputId": "20d7fb27-ba0b-4766-f22c-4621a2817431"
   },
   "outputs": [
    {
     "name": "stderr",
     "output_type": "stream",
     "text": [
      "C:\\ProgramData\\anaconda3\\Lib\\site-packages\\sklearn\\discriminant_analysis.py:935: UserWarning: Variables are collinear\n",
      "  warnings.warn(\"Variables are collinear\")\n"
     ]
    },
    {
     "data": {
      "text/html": [
       "<style type=\"text/css\">\n",
       "#T_74e56_row0_col2, #T_74e56_row1_col2, #T_74e56_row2_col2, #T_74e56_row3_col2, #T_74e56_row4_col2, #T_74e56_row5_col2, #T_74e56_row6_col2, #T_74e56_row7_col2 {\n",
       "  background-color: yellow;\n",
       "}\n",
       "#T_74e56_row0_col5, #T_74e56_row1_col5, #T_74e56_row2_col5, #T_74e56_row3_col5, #T_74e56_row4_col8, #T_74e56_row5_col8, #T_74e56_row6_col8, #T_74e56_row7_col8 {\n",
       "  background-color: red;\n",
       "}\n",
       "#T_74e56_row0_col9, #T_74e56_row1_col9, #T_74e56_row2_col9, #T_74e56_row3_col9, #T_74e56_row4_col0, #T_74e56_row5_col0, #T_74e56_row6_col0, #T_74e56_row7_col0 {\n",
       "  background-color: green;\n",
       "}\n",
       "</style>\n",
       "<table id=\"T_74e56\">\n",
       "  <thead>\n",
       "    <tr>\n",
       "      <th class=\"blank level0\" >&nbsp;</th>\n",
       "      <th id=\"T_74e56_level0_col0\" class=\"col_heading level0 col0\" >Logistic Regression</th>\n",
       "      <th id=\"T_74e56_level0_col1\" class=\"col_heading level0 col1\" >K-Nearest Neighbors</th>\n",
       "      <th id=\"T_74e56_level0_col2\" class=\"col_heading level0 col2\" >Decision Tree</th>\n",
       "      <th id=\"T_74e56_level0_col3\" class=\"col_heading level0 col3\" >Random Forest</th>\n",
       "      <th id=\"T_74e56_level0_col4\" class=\"col_heading level0 col4\" >Gradient Boosting</th>\n",
       "      <th id=\"T_74e56_level0_col5\" class=\"col_heading level0 col5\" >AdaBoost</th>\n",
       "      <th id=\"T_74e56_level0_col6\" class=\"col_heading level0 col6\" >Gaussian Naive Bayes</th>\n",
       "      <th id=\"T_74e56_level0_col7\" class=\"col_heading level0 col7\" >Linear Discriminant Analysis</th>\n",
       "      <th id=\"T_74e56_level0_col8\" class=\"col_heading level0 col8\" >Quadratic Discriminant Analysis</th>\n",
       "      <th id=\"T_74e56_level0_col9\" class=\"col_heading level0 col9\" >Linear SVM</th>\n",
       "      <th id=\"T_74e56_level0_col10\" class=\"col_heading level0 col10\" >Non-Linear SVM</th>\n",
       "    </tr>\n",
       "  </thead>\n",
       "  <tbody>\n",
       "    <tr>\n",
       "      <th id=\"T_74e56_level0_row0\" class=\"row_heading level0 row0\" >Accuracy_train</th>\n",
       "      <td id=\"T_74e56_row0_col0\" class=\"data row0 col0\" >0.991690</td>\n",
       "      <td id=\"T_74e56_row0_col1\" class=\"data row0 col1\" >0.702216</td>\n",
       "      <td id=\"T_74e56_row0_col2\" class=\"data row0 col2\" >0.947368</td>\n",
       "      <td id=\"T_74e56_row0_col3\" class=\"data row0 col3\" >0.994460</td>\n",
       "      <td id=\"T_74e56_row0_col4\" class=\"data row0 col4\" >0.941828</td>\n",
       "      <td id=\"T_74e56_row0_col5\" class=\"data row0 col5\" >0.610803</td>\n",
       "      <td id=\"T_74e56_row0_col6\" class=\"data row0 col6\" >0.804709</td>\n",
       "      <td id=\"T_74e56_row0_col7\" class=\"data row0 col7\" >0.984303</td>\n",
       "      <td id=\"T_74e56_row0_col8\" class=\"data row0 col8\" >0.899354</td>\n",
       "      <td id=\"T_74e56_row0_col9\" class=\"data row0 col9\" >0.997692</td>\n",
       "      <td id=\"T_74e56_row0_col10\" class=\"data row0 col10\" >0.963527</td>\n",
       "    </tr>\n",
       "    <tr>\n",
       "      <th id=\"T_74e56_level0_row1\" class=\"row_heading level0 row1\" >Precision_train</th>\n",
       "      <td id=\"T_74e56_row1_col0\" class=\"data row1 col0\" >0.991690</td>\n",
       "      <td id=\"T_74e56_row1_col1\" class=\"data row1 col1\" >0.702216</td>\n",
       "      <td id=\"T_74e56_row1_col2\" class=\"data row1 col2\" >0.947368</td>\n",
       "      <td id=\"T_74e56_row1_col3\" class=\"data row1 col3\" >0.994460</td>\n",
       "      <td id=\"T_74e56_row1_col4\" class=\"data row1 col4\" >0.941828</td>\n",
       "      <td id=\"T_74e56_row1_col5\" class=\"data row1 col5\" >0.610803</td>\n",
       "      <td id=\"T_74e56_row1_col6\" class=\"data row1 col6\" >0.804709</td>\n",
       "      <td id=\"T_74e56_row1_col7\" class=\"data row1 col7\" >0.984303</td>\n",
       "      <td id=\"T_74e56_row1_col8\" class=\"data row1 col8\" >0.899354</td>\n",
       "      <td id=\"T_74e56_row1_col9\" class=\"data row1 col9\" >0.997692</td>\n",
       "      <td id=\"T_74e56_row1_col10\" class=\"data row1 col10\" >0.963527</td>\n",
       "    </tr>\n",
       "    <tr>\n",
       "      <th id=\"T_74e56_level0_row2\" class=\"row_heading level0 row2\" >Recall_train</th>\n",
       "      <td id=\"T_74e56_row2_col0\" class=\"data row2 col0\" >0.991690</td>\n",
       "      <td id=\"T_74e56_row2_col1\" class=\"data row2 col1\" >0.702216</td>\n",
       "      <td id=\"T_74e56_row2_col2\" class=\"data row2 col2\" >0.947368</td>\n",
       "      <td id=\"T_74e56_row2_col3\" class=\"data row2 col3\" >0.994460</td>\n",
       "      <td id=\"T_74e56_row2_col4\" class=\"data row2 col4\" >0.941828</td>\n",
       "      <td id=\"T_74e56_row2_col5\" class=\"data row2 col5\" >0.610803</td>\n",
       "      <td id=\"T_74e56_row2_col6\" class=\"data row2 col6\" >0.804709</td>\n",
       "      <td id=\"T_74e56_row2_col7\" class=\"data row2 col7\" >0.984303</td>\n",
       "      <td id=\"T_74e56_row2_col8\" class=\"data row2 col8\" >0.899354</td>\n",
       "      <td id=\"T_74e56_row2_col9\" class=\"data row2 col9\" >0.997692</td>\n",
       "      <td id=\"T_74e56_row2_col10\" class=\"data row2 col10\" >0.963527</td>\n",
       "    </tr>\n",
       "    <tr>\n",
       "      <th id=\"T_74e56_level0_row3\" class=\"row_heading level0 row3\" >F1 Score_train</th>\n",
       "      <td id=\"T_74e56_row3_col0\" class=\"data row3 col0\" >0.991690</td>\n",
       "      <td id=\"T_74e56_row3_col1\" class=\"data row3 col1\" >0.702216</td>\n",
       "      <td id=\"T_74e56_row3_col2\" class=\"data row3 col2\" >0.947368</td>\n",
       "      <td id=\"T_74e56_row3_col3\" class=\"data row3 col3\" >0.994460</td>\n",
       "      <td id=\"T_74e56_row3_col4\" class=\"data row3 col4\" >0.941828</td>\n",
       "      <td id=\"T_74e56_row3_col5\" class=\"data row3 col5\" >0.610803</td>\n",
       "      <td id=\"T_74e56_row3_col6\" class=\"data row3 col6\" >0.804709</td>\n",
       "      <td id=\"T_74e56_row3_col7\" class=\"data row3 col7\" >0.984303</td>\n",
       "      <td id=\"T_74e56_row3_col8\" class=\"data row3 col8\" >0.899354</td>\n",
       "      <td id=\"T_74e56_row3_col9\" class=\"data row3 col9\" >0.997692</td>\n",
       "      <td id=\"T_74e56_row3_col10\" class=\"data row3 col10\" >0.963527</td>\n",
       "    </tr>\n",
       "    <tr>\n",
       "      <th id=\"T_74e56_level0_row4\" class=\"row_heading level0 row4\" >Accuracy</th>\n",
       "      <td id=\"T_74e56_row4_col0\" class=\"data row4 col0\" >0.761993</td>\n",
       "      <td id=\"T_74e56_row4_col1\" class=\"data row4 col1\" >0.455720</td>\n",
       "      <td id=\"T_74e56_row4_col2\" class=\"data row4 col2\" >0.660517</td>\n",
       "      <td id=\"T_74e56_row4_col3\" class=\"data row4 col3\" >0.717712</td>\n",
       "      <td id=\"T_74e56_row4_col4\" class=\"data row4 col4\" >0.754613</td>\n",
       "      <td id=\"T_74e56_row4_col5\" class=\"data row4 col5\" >0.623616</td>\n",
       "      <td id=\"T_74e56_row4_col6\" class=\"data row4 col6\" >0.503690</td>\n",
       "      <td id=\"T_74e56_row4_col7\" class=\"data row4 col7\" >0.586716</td>\n",
       "      <td id=\"T_74e56_row4_col8\" class=\"data row4 col8\" >0.147601</td>\n",
       "      <td id=\"T_74e56_row4_col9\" class=\"data row4 col9\" >0.719557</td>\n",
       "      <td id=\"T_74e56_row4_col10\" class=\"data row4 col10\" >0.752768</td>\n",
       "    </tr>\n",
       "    <tr>\n",
       "      <th id=\"T_74e56_level0_row5\" class=\"row_heading level0 row5\" >Precision</th>\n",
       "      <td id=\"T_74e56_row5_col0\" class=\"data row5 col0\" >0.761993</td>\n",
       "      <td id=\"T_74e56_row5_col1\" class=\"data row5 col1\" >0.455720</td>\n",
       "      <td id=\"T_74e56_row5_col2\" class=\"data row5 col2\" >0.660517</td>\n",
       "      <td id=\"T_74e56_row5_col3\" class=\"data row5 col3\" >0.717712</td>\n",
       "      <td id=\"T_74e56_row5_col4\" class=\"data row5 col4\" >0.754613</td>\n",
       "      <td id=\"T_74e56_row5_col5\" class=\"data row5 col5\" >0.623616</td>\n",
       "      <td id=\"T_74e56_row5_col6\" class=\"data row5 col6\" >0.503690</td>\n",
       "      <td id=\"T_74e56_row5_col7\" class=\"data row5 col7\" >0.586716</td>\n",
       "      <td id=\"T_74e56_row5_col8\" class=\"data row5 col8\" >0.147601</td>\n",
       "      <td id=\"T_74e56_row5_col9\" class=\"data row5 col9\" >0.719557</td>\n",
       "      <td id=\"T_74e56_row5_col10\" class=\"data row5 col10\" >0.752768</td>\n",
       "    </tr>\n",
       "    <tr>\n",
       "      <th id=\"T_74e56_level0_row6\" class=\"row_heading level0 row6\" >Recall</th>\n",
       "      <td id=\"T_74e56_row6_col0\" class=\"data row6 col0\" >0.761993</td>\n",
       "      <td id=\"T_74e56_row6_col1\" class=\"data row6 col1\" >0.455720</td>\n",
       "      <td id=\"T_74e56_row6_col2\" class=\"data row6 col2\" >0.660517</td>\n",
       "      <td id=\"T_74e56_row6_col3\" class=\"data row6 col3\" >0.717712</td>\n",
       "      <td id=\"T_74e56_row6_col4\" class=\"data row6 col4\" >0.754613</td>\n",
       "      <td id=\"T_74e56_row6_col5\" class=\"data row6 col5\" >0.623616</td>\n",
       "      <td id=\"T_74e56_row6_col6\" class=\"data row6 col6\" >0.503690</td>\n",
       "      <td id=\"T_74e56_row6_col7\" class=\"data row6 col7\" >0.586716</td>\n",
       "      <td id=\"T_74e56_row6_col8\" class=\"data row6 col8\" >0.147601</td>\n",
       "      <td id=\"T_74e56_row6_col9\" class=\"data row6 col9\" >0.719557</td>\n",
       "      <td id=\"T_74e56_row6_col10\" class=\"data row6 col10\" >0.752768</td>\n",
       "    </tr>\n",
       "    <tr>\n",
       "      <th id=\"T_74e56_level0_row7\" class=\"row_heading level0 row7\" >F1 Score</th>\n",
       "      <td id=\"T_74e56_row7_col0\" class=\"data row7 col0\" >0.761993</td>\n",
       "      <td id=\"T_74e56_row7_col1\" class=\"data row7 col1\" >0.455720</td>\n",
       "      <td id=\"T_74e56_row7_col2\" class=\"data row7 col2\" >0.660517</td>\n",
       "      <td id=\"T_74e56_row7_col3\" class=\"data row7 col3\" >0.717712</td>\n",
       "      <td id=\"T_74e56_row7_col4\" class=\"data row7 col4\" >0.754613</td>\n",
       "      <td id=\"T_74e56_row7_col5\" class=\"data row7 col5\" >0.623616</td>\n",
       "      <td id=\"T_74e56_row7_col6\" class=\"data row7 col6\" >0.503690</td>\n",
       "      <td id=\"T_74e56_row7_col7\" class=\"data row7 col7\" >0.586716</td>\n",
       "      <td id=\"T_74e56_row7_col8\" class=\"data row7 col8\" >0.147601</td>\n",
       "      <td id=\"T_74e56_row7_col9\" class=\"data row7 col9\" >0.719557</td>\n",
       "      <td id=\"T_74e56_row7_col10\" class=\"data row7 col10\" >0.752768</td>\n",
       "    </tr>\n",
       "  </tbody>\n",
       "</table>\n"
      ],
      "text/plain": [
       "<pandas.io.formats.style.Styler at 0x25090e83590>"
      ]
     },
     "execution_count": 19,
     "metadata": {},
     "output_type": "execute_result"
    }
   ],
   "source": [
    "# Dans cette partie on applique les différents algorithmes de classification sur la matrice X uniquement\n",
    "\n",
    "\n",
    "# On définit X comme suit\n",
    "X = X_matrix.copy()\n",
    "classes = classes.ravel()\n",
    "# Diviser les données en ensemble d'entraînement et ensemble de test de taille 20%\n",
    "X_train, X_test, y_train, y_test = train_test_split(X, classes, test_size=0.2, random_state=42)\n",
    "\n",
    "# Créer un dataframe pour stocker les résultats\n",
    "performance_df = {}\n",
    "\n",
    "models = [\n",
    "    ('Logistic Regression', LogisticRegression(random_state=42)),\n",
    "    ('K-Nearest Neighbors', KNeighborsClassifier()),\n",
    "    ('Decision Tree', DecisionTreeClassifier(max_depth=45,random_state=42)),\n",
    "    ('Random Forest', RandomForestClassifier(n_estimators=10,random_state=42)),\n",
    "    ('Gradient Boosting', GradientBoostingClassifier(random_state=42)),\n",
    "    ('AdaBoost', AdaBoostClassifier(random_state=42)),\n",
    "    ('Gaussian Naive Bayes', GaussianNB()),\n",
    "    ('Linear Discriminant Analysis', LinearDiscriminantAnalysis()),\n",
    "    ('Quadratic Discriminant Analysis', QuadraticDiscriminantAnalysis(reg_param=1e-6)),\n",
    "    ('Linear SVM', SVC(kernel='linear',random_state=42)),\n",
    "    ('Non-Linear SVM', SVC(kernel=\"rbf\",random_state=42))\n",
    "]\n",
    "\n",
    "# Boucle sur les modèles\n",
    "for model_name, model in models:\n",
    "\n",
    "    # Entraîner le modèle sur l'ensemble d'entraînement\n",
    "    model.fit(X_train, y_train)\n",
    "    y_train_pred = model.predict(X_train)\n",
    "    # Faire des prédictions sur l'ensemble de test\n",
    "    y_pred = model.predict(X_test)\n",
    "\n",
    "    # Mesures de performance sur le dataset de  test\n",
    "    accuracy = accuracy_score(y_test, y_pred)\n",
    "    precision = precision_score(y_test, y_pred,average='micro')\n",
    "    recall = recall_score(y_test, y_pred,average='micro')\n",
    "    f1 = f1_score(y_test, y_pred,average='micro')\n",
    "    # Mesures de performance sur le dataset d'entrainement\n",
    "    accuracy1 = accuracy_score(y_train, y_train_pred)\n",
    "    precision1 = precision_score(y_train, y_train_pred,average='micro')\n",
    "    recall1 = recall_score(y_train, y_train_pred,average='micro')\n",
    "    f11 = f1_score(y_train, y_train_pred,average='micro')\n",
    "    # Stocker les résultats dans le dataframe\n",
    "    performance_df[model_name]={\n",
    "        'Accuracy_train': accuracy1,\n",
    "        'Precision_train': precision1,\n",
    "        'Recall_train': recall1,\n",
    "        'F1 Score_train': f11,\n",
    "        'Accuracy': accuracy,\n",
    "        'Precision': precision,\n",
    "        'Recall': recall,\n",
    "        'F1 Score': f1\n",
    "    }\n",
    "\n",
    "# Afficher le dataframe comparatives de performances\n",
    "performance_df = pd.DataFrame(performance_df)\n",
    "# Fonction pour colorer la cellule avec la valeur la plus élevée dans chaque ligne\n",
    "def highlight_max(s):\n",
    "    is_max = s == s.max()\n",
    "    return ['background-color: green' if v else '' for v in is_max]\n",
    "\n",
    "# Fonction pour colorer la cellule avec la valeur la plus basse dans chaque ligne\n",
    "def highlight_min(s):\n",
    "    is_min = s == s.min()\n",
    "    return ['background-color: red' if v else '' for v in is_min]\n",
    "\n",
    "# Fonction pour colorer la cellule avec la valeur médiane dans chaque ligne\n",
    "def highlight_mean(s):\n",
    "    is_mean = s == s.median()\n",
    "    return ['background-color: yellow' if v else '' for v in is_mean]\n",
    "\n",
    "performance_df = performance_df.style.apply(highlight_max, axis=1).apply(highlight_min, axis=1).apply(highlight_mean, axis=1)\n",
    "\n",
    "performance_df\n",
    "# On affiche le résultat pour chaque modèle, les performances sont measuré sur le dataset d'entrainement et du test\n",
    "# Les cases vertes représentent le modèle qui a obtenu le score le plus haut selon la measure  correspondante"
   ]
  },
  {
   "cell_type": "markdown",
   "id": "ZvRu7yecul0l",
   "metadata": {
    "id": "ZvRu7yecul0l"
   },
   "source": [
    "# Interprétation"
   ]
  },
  {
   "cell_type": "markdown",
   "id": "6J_wq2EKqEIN",
   "metadata": {
    "id": "6J_wq2EKqEIN"
   },
   "source": [
    "## **Analyse des performances sur les données relationnelles**"
   ]
  },
  {
   "cell_type": "markdown",
   "id": "QJdvn69GNaPW",
   "metadata": {
    "id": "QJdvn69GNaPW"
   },
   "source": [
    "### **Modèles avec performances élevées sur les données d'entraînement :**\n",
    "\n",
    "*   **Linear SVM :** Ce modèle a montré la meilleure performance d'entraînement avec une accuracy de (**99.77%**). Les SVM linéaires sont souvent efficaces pour les données linéaires, ce qui peut être le cas avec des données relationnelles.\n",
    "\n",
    "*   **Random Forest et Decision Tree :** Ces modèles ont également montré des performances élevées sur les données d'entraînement. Les arbres de décision sont capables de capturer des relations complexes, et les forêts aléatoires étendent cette capacité en agrégeant plusieurs arbres. Ce qui s'adapte aux données relationnelles mesurant les relations complexes entre les variables.\n",
    "\n",
    "### **Modèles avec performances modérées sur les données d'entraînement :**\n",
    "\n",
    "*    **Logistic Regression**, **Linear Discriminant Analysis**, et **Gradient Boosting** : Bien que ces modèles n'aient pas atteint les performances les plus élevées sur les données d'entraînement, ils ont montré des résultats solides. La régression logistique est souvent utilisée pour les problèmes de classification, tandis que l'analyse discriminante linéaire peut être puissante pour des données relationnelles.\n",
    "\n",
    "### **Modèles avec performances plus faibles sur les données d'entraînement :**\n",
    "\n",
    "*    **Quadratic Discriminant Analysis**, **Gaussian Naive Bayes**, **K-Nearest Neighbors** : Ces modèles ont montré des performances inférieures sur les données d'entraînement, ce qui suggère qu'ils peuvent ne pas être aussi adaptés à la structure des données relationnelles.\n",
    "\n",
    "*   **AdaBoost** : Bien que ce modèle ait obtenu la plus mauvaise performance d'entraînement  (**61%**), il est intéressant de noter qu'il a montré une précision de test supérieure à sa performance d'entraînement. Cela peut indiquer une capacité d'adaptation à de nouveaux exemples."
   ]
  },
  {
   "cell_type": "markdown",
   "id": "mo2QfqcDtSRU",
   "metadata": {
    "id": "mo2QfqcDtSRU"
   },
   "source": [
    "### **Performances de test par rapport à l'entraînement :**\n",
    "\n",
    "*    **Baisse significative :** Il est commun d'observer une baisse de performance entre l'entraînement et les tests, mais il est crucial de minimiser cette disparité pour garantir la généralisation du modèle à de nouvelles données.\n",
    "\n",
    "*    Meilleures performances sur les tests pour **Logistic Regression**, **Gradient Boosting** et **Non Linear SVM**: Ces modèles semblent mieux généraliser aux nouvelles données, ce qui est essentiel pour l'efficacité d'un modèle. Ils ont montré de meilleures performances par rapport à d'autres modèles avec une précision de (**76,16%**), (**75,46**) et (**75,27**) respectivement.\n",
    "\n",
    "*    **AdaBoost :** Bien qu'il ait montré une mauvaise performance d'entraînement, il a une performance de test relativement meilleure, indiquant une capacité à généraliser malgré des performances d'entraînement plus faibles.\n",
    "\n",
    "*    Les modèles **Linear SVM**, **Random Forest**, **et Decision Tree** ont montré de bonnes mesures de tests avec une précision de (**71,95%**), (**71,77%**) et (**66,05%**) respectivement.\n",
    "\n",
    "*    **Linear Discriminant Analysis**, **Gaussian Naive Bayes**, **K-Nearest Neighbors**: Ces modèles ont montré des baisses de performances significatives sur les tests par rapport à l'entraînement avec une précision de (**58,67%**) (**50,36%**) et (**45,57%**) respectivement..\n",
    "\n",
    "*    **Quadratic Discriminant Analysis :** Ce modèle a la plus mauvaise performance sur les tests (**16%**), soulignant une incapacité à généraliser efficacement."
   ]
  },
  {
   "cell_type": "markdown",
   "id": "xbm1hFBwRy4k",
   "metadata": {
    "id": "xbm1hFBwRy4k"
   },
   "source": [
    "## **Conclusions atteintes**\n",
    "\n",
    "*   Tous les modèles semblent bien s'adapter aux données d'entraînement, avec des scores élevés en termes d'accuracy, de précision, de rappel et de F1 score. Cela pourrait indiquer une bonne capacité des modèles à mémoriser les caractéristiques spécifiques de ces données.\n",
    "\n",
    "*   Lorsqu'on évalue les modèles sur les données de test, on observe une certaine baisse de performance par rapport aux données d'entraînement. Cependant, le modèle \"Linear SVM\" maintient toujours des scores élevés  et une performance exceptionnelle par rapport aux autres modèles.\n",
    "\n",
    "*   Les modèles de type arbre, tels que \"**Random Forest**\" et \"**Decision Tree**\", montrent également des performances solides sur les données de test, mais généralement inférieures à celles du modèle linéaire. Par contre, ces modèles peuvent être plus sensibles au surajustement (overfitting), ce qui peut se manifester par une plus grande disparité entre les performances sur les données d'entraînement et de test.\n",
    "\n",
    "*   **Défi potentiel :** La différence entre les performances d'entraînement et de test peut indiquer un certain niveau de surajustement, surtout pour les modèles avec des performances d'entraînement très élevées. Il pourrait être bénéfique d'explorer des techniques de régularisation ou de sélection de modèles pour améliorer la généralisation.\n",
    "\n",
    "*   Étant donné que l'ensemble de données Cora comprend 2708 publications, la taille relativement petite de l'ensemble de données peut influencer la performance des modèles. L'utilisation de techniques d'augmentation de données ou d'autres stratégies pourrait être envisagée pour optimiser davantage les résultats."
   ]
  },
  {
   "cell_type": "markdown",
   "id": "EOOkElNUV8Tf",
   "metadata": {
    "id": "EOOkElNUV8Tf"
   },
   "source": [
    "Concernant les conclusions sur nos données relationnelles, en utilisant seulement la matrice X, nous déduisons ceci :     \n",
    "\n",
    "*    **Relations basées uniquement sur la Matrice X:** Étant donné que la matrice d'adjacence W n'a pas été utilisée, les modèles se sont concentrés uniquement sur les informations contenues dans la matrice X, qui représente la présence ou l'absence de mots dans chaque publication. Les relations directes entre les publications via les citations n'ont pas été prises en compte.\n",
    "\n",
    "\n",
    "*    **Sensibilité aux Mots Spécifiques:** Les modèles ont été sensibles à la présence ou à l'absence de mots spécifiques dans les publications. Les coefficients associés à chaque mot dans le modèle (comme pour la régression logistique) indiquent l'importance relative de ces mots pour la classification dans les différentes classes.\n",
    "\n",
    "*    **Capacité à Capturer des Motifs Discréts:** Les caractéristiques discrètes de la matrice X (représentant des mots présents ou absents) ont été utilisées par les modèles pour capturer des motifs discriminants. Les relations binaires \"présence/absence\" de mots spécifiques ont été des facteurs clés dans la prise de décision.\n",
    "\n",
    "*    **Linéarité Potentielle des Relations:**  Les modèles tels que le \"Linear SVM\" ont pu exploiter des relations linéaires entre les mots présents dans les publications et les classes correspondantes. Cela pourrait indiquer que, même sans utiliser des relations de citation directe, une séparation linéaire dans l'espace des caractéristiques (mots) est suffisante pour bien classifier les publications.\n",
    "\n",
    "*    **Interprétation des Performances:**   Les performances des modèles sur les données d'entraînement et de test indiquent qu'ils ont réussi à apprendre les schémas discriminants présents dans la matrice X. Cependant, la différence entre les performances d'entraînement et de test suggère qu'il pourrait y avoir une certaine capacité de surajustement, ce qui nécessiterait une évaluation plus approfondie."
   ]
  },
  {
   "cell_type": "markdown",
   "id": "c57d11be-1332-4f68-a323-1512cd638e66",
   "metadata": {
    "id": "c57d11be-1332-4f68-a323-1512cd638e66"
   },
   "source": [
    "## 2 - Comparaison des méthodes en utlisant  la matrice M=D^(-1)*W*X"
   ]
  },
  {
   "cell_type": "code",
   "execution_count": 20,
   "id": "d3e3b34b-8b07-45cd-8264-9c4390e967c8",
   "metadata": {
    "colab": {
     "base_uri": "https://localhost:8080/",
     "height": 352
    },
    "id": "d3e3b34b-8b07-45cd-8264-9c4390e967c8",
    "outputId": "d7678f50-f473-491a-82f4-9d93b868bd45"
   },
   "outputs": [
    {
     "name": "stderr",
     "output_type": "stream",
     "text": [
      "C:\\ProgramData\\anaconda3\\Lib\\site-packages\\sklearn\\discriminant_analysis.py:935: UserWarning: Variables are collinear\n",
      "  warnings.warn(\"Variables are collinear\")\n"
     ]
    },
    {
     "data": {
      "text/html": [
       "<style type=\"text/css\">\n",
       "#T_32bca_row0_col2, #T_32bca_row1_col2, #T_32bca_row2_col2, #T_32bca_row3_col2, #T_32bca_row4_col0, #T_32bca_row5_col0, #T_32bca_row6_col0, #T_32bca_row7_col0 {\n",
       "  background-color: green;\n",
       "}\n",
       "#T_32bca_row0_col4, #T_32bca_row1_col4, #T_32bca_row2_col4, #T_32bca_row3_col4, #T_32bca_row4_col3, #T_32bca_row5_col3, #T_32bca_row6_col3, #T_32bca_row7_col3 {\n",
       "  background-color: yellow;\n",
       "}\n",
       "#T_32bca_row0_col5, #T_32bca_row1_col5, #T_32bca_row2_col5, #T_32bca_row3_col5, #T_32bca_row4_col8, #T_32bca_row5_col8, #T_32bca_row6_col8, #T_32bca_row7_col8 {\n",
       "  background-color: red;\n",
       "}\n",
       "</style>\n",
       "<table id=\"T_32bca\">\n",
       "  <thead>\n",
       "    <tr>\n",
       "      <th class=\"blank level0\" >&nbsp;</th>\n",
       "      <th id=\"T_32bca_level0_col0\" class=\"col_heading level0 col0\" >Logistic Regression</th>\n",
       "      <th id=\"T_32bca_level0_col1\" class=\"col_heading level0 col1\" >K-Nearest Neighbors</th>\n",
       "      <th id=\"T_32bca_level0_col2\" class=\"col_heading level0 col2\" >Decision Tree</th>\n",
       "      <th id=\"T_32bca_level0_col3\" class=\"col_heading level0 col3\" >Random Forest</th>\n",
       "      <th id=\"T_32bca_level0_col4\" class=\"col_heading level0 col4\" >Gradient Boosting</th>\n",
       "      <th id=\"T_32bca_level0_col5\" class=\"col_heading level0 col5\" >AdaBoost</th>\n",
       "      <th id=\"T_32bca_level0_col6\" class=\"col_heading level0 col6\" >Gaussian Naive Bayes</th>\n",
       "      <th id=\"T_32bca_level0_col7\" class=\"col_heading level0 col7\" >Linear Discriminant Analysis</th>\n",
       "      <th id=\"T_32bca_level0_col8\" class=\"col_heading level0 col8\" >Quadratic Discriminant Analysis</th>\n",
       "      <th id=\"T_32bca_level0_col9\" class=\"col_heading level0 col9\" >Linear SVM</th>\n",
       "      <th id=\"T_32bca_level0_col10\" class=\"col_heading level0 col10\" >Non-Linear SVM</th>\n",
       "    </tr>\n",
       "  </thead>\n",
       "  <tbody>\n",
       "    <tr>\n",
       "      <th id=\"T_32bca_level0_row0\" class=\"row_heading level0 row0\" >Accuracy_train</th>\n",
       "      <td id=\"T_32bca_row0_col0\" class=\"data row0 col0\" >0.959372</td>\n",
       "      <td id=\"T_32bca_row0_col1\" class=\"data row0 col1\" >0.871191</td>\n",
       "      <td id=\"T_32bca_row0_col2\" class=\"data row0 col2\" >0.995845</td>\n",
       "      <td id=\"T_32bca_row0_col3\" class=\"data row0 col3\" >0.990766</td>\n",
       "      <td id=\"T_32bca_row0_col4\" class=\"data row0 col4\" >0.978301</td>\n",
       "      <td id=\"T_32bca_row0_col5\" class=\"data row0 col5\" >0.662050</td>\n",
       "      <td id=\"T_32bca_row0_col6\" class=\"data row0 col6\" >0.882271</td>\n",
       "      <td id=\"T_32bca_row0_col7\" class=\"data row0 col7\" >0.987535</td>\n",
       "      <td id=\"T_32bca_row0_col8\" class=\"data row0 col8\" >0.993075</td>\n",
       "      <td id=\"T_32bca_row0_col9\" class=\"data row0 col9\" >0.979686</td>\n",
       "      <td id=\"T_32bca_row0_col10\" class=\"data row0 col10\" >0.951524</td>\n",
       "    </tr>\n",
       "    <tr>\n",
       "      <th id=\"T_32bca_level0_row1\" class=\"row_heading level0 row1\" >Precision_train</th>\n",
       "      <td id=\"T_32bca_row1_col0\" class=\"data row1 col0\" >0.959372</td>\n",
       "      <td id=\"T_32bca_row1_col1\" class=\"data row1 col1\" >0.871191</td>\n",
       "      <td id=\"T_32bca_row1_col2\" class=\"data row1 col2\" >0.995845</td>\n",
       "      <td id=\"T_32bca_row1_col3\" class=\"data row1 col3\" >0.990766</td>\n",
       "      <td id=\"T_32bca_row1_col4\" class=\"data row1 col4\" >0.978301</td>\n",
       "      <td id=\"T_32bca_row1_col5\" class=\"data row1 col5\" >0.662050</td>\n",
       "      <td id=\"T_32bca_row1_col6\" class=\"data row1 col6\" >0.882271</td>\n",
       "      <td id=\"T_32bca_row1_col7\" class=\"data row1 col7\" >0.987535</td>\n",
       "      <td id=\"T_32bca_row1_col8\" class=\"data row1 col8\" >0.993075</td>\n",
       "      <td id=\"T_32bca_row1_col9\" class=\"data row1 col9\" >0.979686</td>\n",
       "      <td id=\"T_32bca_row1_col10\" class=\"data row1 col10\" >0.951524</td>\n",
       "    </tr>\n",
       "    <tr>\n",
       "      <th id=\"T_32bca_level0_row2\" class=\"row_heading level0 row2\" >Recall_train</th>\n",
       "      <td id=\"T_32bca_row2_col0\" class=\"data row2 col0\" >0.959372</td>\n",
       "      <td id=\"T_32bca_row2_col1\" class=\"data row2 col1\" >0.871191</td>\n",
       "      <td id=\"T_32bca_row2_col2\" class=\"data row2 col2\" >0.995845</td>\n",
       "      <td id=\"T_32bca_row2_col3\" class=\"data row2 col3\" >0.990766</td>\n",
       "      <td id=\"T_32bca_row2_col4\" class=\"data row2 col4\" >0.978301</td>\n",
       "      <td id=\"T_32bca_row2_col5\" class=\"data row2 col5\" >0.662050</td>\n",
       "      <td id=\"T_32bca_row2_col6\" class=\"data row2 col6\" >0.882271</td>\n",
       "      <td id=\"T_32bca_row2_col7\" class=\"data row2 col7\" >0.987535</td>\n",
       "      <td id=\"T_32bca_row2_col8\" class=\"data row2 col8\" >0.993075</td>\n",
       "      <td id=\"T_32bca_row2_col9\" class=\"data row2 col9\" >0.979686</td>\n",
       "      <td id=\"T_32bca_row2_col10\" class=\"data row2 col10\" >0.951524</td>\n",
       "    </tr>\n",
       "    <tr>\n",
       "      <th id=\"T_32bca_level0_row3\" class=\"row_heading level0 row3\" >F1 Score_train</th>\n",
       "      <td id=\"T_32bca_row3_col0\" class=\"data row3 col0\" >0.959372</td>\n",
       "      <td id=\"T_32bca_row3_col1\" class=\"data row3 col1\" >0.871191</td>\n",
       "      <td id=\"T_32bca_row3_col2\" class=\"data row3 col2\" >0.995845</td>\n",
       "      <td id=\"T_32bca_row3_col3\" class=\"data row3 col3\" >0.990766</td>\n",
       "      <td id=\"T_32bca_row3_col4\" class=\"data row3 col4\" >0.978301</td>\n",
       "      <td id=\"T_32bca_row3_col5\" class=\"data row3 col5\" >0.662050</td>\n",
       "      <td id=\"T_32bca_row3_col6\" class=\"data row3 col6\" >0.882271</td>\n",
       "      <td id=\"T_32bca_row3_col7\" class=\"data row3 col7\" >0.987535</td>\n",
       "      <td id=\"T_32bca_row3_col8\" class=\"data row3 col8\" >0.993075</td>\n",
       "      <td id=\"T_32bca_row3_col9\" class=\"data row3 col9\" >0.979686</td>\n",
       "      <td id=\"T_32bca_row3_col10\" class=\"data row3 col10\" >0.951524</td>\n",
       "    </tr>\n",
       "    <tr>\n",
       "      <th id=\"T_32bca_level0_row4\" class=\"row_heading level0 row4\" >Accuracy</th>\n",
       "      <td id=\"T_32bca_row4_col0\" class=\"data row4 col0\" >0.837638</td>\n",
       "      <td id=\"T_32bca_row4_col1\" class=\"data row4 col1\" >0.819188</td>\n",
       "      <td id=\"T_32bca_row4_col2\" class=\"data row4 col2\" >0.704797</td>\n",
       "      <td id=\"T_32bca_row4_col3\" class=\"data row4 col3\" >0.791513</td>\n",
       "      <td id=\"T_32bca_row4_col4\" class=\"data row4 col4\" >0.806273</td>\n",
       "      <td id=\"T_32bca_row4_col5\" class=\"data row4 col5\" >0.656827</td>\n",
       "      <td id=\"T_32bca_row4_col6\" class=\"data row4 col6\" >0.719557</td>\n",
       "      <td id=\"T_32bca_row4_col7\" class=\"data row4 col7\" >0.710332</td>\n",
       "      <td id=\"T_32bca_row4_col8\" class=\"data row4 col8\" >0.501845</td>\n",
       "      <td id=\"T_32bca_row4_col9\" class=\"data row4 col9\" >0.811808</td>\n",
       "      <td id=\"T_32bca_row4_col10\" class=\"data row4 col10\" >0.809963</td>\n",
       "    </tr>\n",
       "    <tr>\n",
       "      <th id=\"T_32bca_level0_row5\" class=\"row_heading level0 row5\" >Precision</th>\n",
       "      <td id=\"T_32bca_row5_col0\" class=\"data row5 col0\" >0.837638</td>\n",
       "      <td id=\"T_32bca_row5_col1\" class=\"data row5 col1\" >0.819188</td>\n",
       "      <td id=\"T_32bca_row5_col2\" class=\"data row5 col2\" >0.704797</td>\n",
       "      <td id=\"T_32bca_row5_col3\" class=\"data row5 col3\" >0.791513</td>\n",
       "      <td id=\"T_32bca_row5_col4\" class=\"data row5 col4\" >0.806273</td>\n",
       "      <td id=\"T_32bca_row5_col5\" class=\"data row5 col5\" >0.656827</td>\n",
       "      <td id=\"T_32bca_row5_col6\" class=\"data row5 col6\" >0.719557</td>\n",
       "      <td id=\"T_32bca_row5_col7\" class=\"data row5 col7\" >0.710332</td>\n",
       "      <td id=\"T_32bca_row5_col8\" class=\"data row5 col8\" >0.501845</td>\n",
       "      <td id=\"T_32bca_row5_col9\" class=\"data row5 col9\" >0.811808</td>\n",
       "      <td id=\"T_32bca_row5_col10\" class=\"data row5 col10\" >0.809963</td>\n",
       "    </tr>\n",
       "    <tr>\n",
       "      <th id=\"T_32bca_level0_row6\" class=\"row_heading level0 row6\" >Recall</th>\n",
       "      <td id=\"T_32bca_row6_col0\" class=\"data row6 col0\" >0.837638</td>\n",
       "      <td id=\"T_32bca_row6_col1\" class=\"data row6 col1\" >0.819188</td>\n",
       "      <td id=\"T_32bca_row6_col2\" class=\"data row6 col2\" >0.704797</td>\n",
       "      <td id=\"T_32bca_row6_col3\" class=\"data row6 col3\" >0.791513</td>\n",
       "      <td id=\"T_32bca_row6_col4\" class=\"data row6 col4\" >0.806273</td>\n",
       "      <td id=\"T_32bca_row6_col5\" class=\"data row6 col5\" >0.656827</td>\n",
       "      <td id=\"T_32bca_row6_col6\" class=\"data row6 col6\" >0.719557</td>\n",
       "      <td id=\"T_32bca_row6_col7\" class=\"data row6 col7\" >0.710332</td>\n",
       "      <td id=\"T_32bca_row6_col8\" class=\"data row6 col8\" >0.501845</td>\n",
       "      <td id=\"T_32bca_row6_col9\" class=\"data row6 col9\" >0.811808</td>\n",
       "      <td id=\"T_32bca_row6_col10\" class=\"data row6 col10\" >0.809963</td>\n",
       "    </tr>\n",
       "    <tr>\n",
       "      <th id=\"T_32bca_level0_row7\" class=\"row_heading level0 row7\" >F1 Score</th>\n",
       "      <td id=\"T_32bca_row7_col0\" class=\"data row7 col0\" >0.837638</td>\n",
       "      <td id=\"T_32bca_row7_col1\" class=\"data row7 col1\" >0.819188</td>\n",
       "      <td id=\"T_32bca_row7_col2\" class=\"data row7 col2\" >0.704797</td>\n",
       "      <td id=\"T_32bca_row7_col3\" class=\"data row7 col3\" >0.791513</td>\n",
       "      <td id=\"T_32bca_row7_col4\" class=\"data row7 col4\" >0.806273</td>\n",
       "      <td id=\"T_32bca_row7_col5\" class=\"data row7 col5\" >0.656827</td>\n",
       "      <td id=\"T_32bca_row7_col6\" class=\"data row7 col6\" >0.719557</td>\n",
       "      <td id=\"T_32bca_row7_col7\" class=\"data row7 col7\" >0.710332</td>\n",
       "      <td id=\"T_32bca_row7_col8\" class=\"data row7 col8\" >0.501845</td>\n",
       "      <td id=\"T_32bca_row7_col9\" class=\"data row7 col9\" >0.811808</td>\n",
       "      <td id=\"T_32bca_row7_col10\" class=\"data row7 col10\" >0.809963</td>\n",
       "    </tr>\n",
       "  </tbody>\n",
       "</table>\n"
      ],
      "text/plain": [
       "<pandas.io.formats.style.Styler at 0x2508bb91710>"
      ]
     },
     "execution_count": 20,
     "metadata": {},
     "output_type": "execute_result"
    }
   ],
   "source": [
    "# Dans cette partie on applique les différents algorithmes de classification sur la matrice M\n",
    "\n",
    "\n",
    "# Étape 1 : Calculer la matrice diagonale D\n",
    "D_matrix = np.diag(np.sum(W_matrix, axis=1))\n",
    "\n",
    "# Étape 2 : Inverser la matrice diagonale D\n",
    "D_inv_matrix = np.linalg.inv(D_matrix)\n",
    "\n",
    "# Étape 3 : Calculer la matrice M\n",
    "M_matrix = np.dot(np.dot(D_inv_matrix, W_matrix), X_matrix)\n",
    "\n",
    "# Diviser les données en ensemble d'entraînement et ensemble de test de taille 20%\n",
    "X_train, X_test, y_train, y_test = train_test_split(M_matrix, classes, test_size=0.2, random_state=42)\n",
    "\n",
    "# Créer un dataframe pour stocker les résultats\n",
    "performance_df = {}\n",
    "\n",
    "models = [\n",
    "    ('Logistic Regression', LogisticRegression(random_state=42)),\n",
    "    ('K-Nearest Neighbors', KNeighborsClassifier()),\n",
    "    ('Decision Tree', DecisionTreeClassifier(max_depth=45,random_state=42)),\n",
    "    ('Random Forest', RandomForestClassifier(n_estimators=10,random_state=42)),\n",
    "    ('Gradient Boosting', GradientBoostingClassifier(random_state=42)),\n",
    "    ('AdaBoost', AdaBoostClassifier(random_state=42)),\n",
    "    ('Gaussian Naive Bayes', GaussianNB()),\n",
    "    ('Linear Discriminant Analysis', LinearDiscriminantAnalysis()),\n",
    "    ('Quadratic Discriminant Analysis', QuadraticDiscriminantAnalysis(reg_param=1e-6)),\n",
    "    ('Linear SVM', SVC(kernel='linear',random_state=42)),\n",
    "    ('Non-Linear SVM', SVC(kernel=\"rbf\",random_state=42))\n",
    "]\n",
    "\n",
    "# Boucle sur les modèles\n",
    "for model_name, model in models:\n",
    "\n",
    "    # Entraîner le modèle sur l'ensemble d'entraînement\n",
    "    model.fit(X_train, y_train)\n",
    "    y_train_pred = model.predict(X_train)\n",
    "    # Faire des prédictions sur l'ensemble de test\n",
    "    y_pred = model.predict(X_test)\n",
    "\n",
    "    # Mesures de performance sur le dataset de  test\n",
    "    accuracy = accuracy_score(y_test, y_pred)\n",
    "    precision = precision_score(y_test, y_pred,average='micro')\n",
    "    recall = recall_score(y_test, y_pred,average='micro')\n",
    "    f1 = f1_score(y_test, y_pred,average='micro')\n",
    "    # Mesures de performance sur le dataset d'entrainement\n",
    "    accuracy1 = accuracy_score(y_train, y_train_pred)\n",
    "    precision1 = precision_score(y_train, y_train_pred,average='micro')\n",
    "    recall1 = recall_score(y_train, y_train_pred,average='micro')\n",
    "    f11 = f1_score(y_train, y_train_pred,average='micro')\n",
    "    # Stocker les résultats dans le dataframe\n",
    "    performance_df[model_name]={\n",
    "        'Accuracy_train': accuracy1,\n",
    "        'Precision_train': precision1,\n",
    "        'Recall_train': recall1,\n",
    "        'F1 Score_train': f11,\n",
    "        'Accuracy': accuracy,\n",
    "        'Precision': precision,\n",
    "        'Recall': recall,\n",
    "        'F1 Score': f1\n",
    "    }\n",
    "\n",
    "# Afficher le dataframe comparatives de performances\n",
    "performance_df = pd.DataFrame(performance_df)\n",
    "# Fonction pour colorer la cellule avec la valeur la plus élevée dans chaque ligne\n",
    "def highlight_max(s):\n",
    "    is_max = s == s.max()\n",
    "    return ['background-color: green' if v else '' for v in is_max]\n",
    "\n",
    "# Fonction pour colorer la cellule avec la valeur la plus basse dans chaque ligne\n",
    "def highlight_min(s):\n",
    "    is_min = s == s.min()\n",
    "    return ['background-color: red' if v else '' for v in is_min]\n",
    "\n",
    "# Fonction pour colorer la cellule avec la valeur médiane dans chaque ligne\n",
    "def highlight_mean(s):\n",
    "    is_mean = s == s.median()\n",
    "    return ['background-color: yellow' if v else '' for v in is_mean]\n",
    "\n",
    "performance_df = performance_df.style.apply(highlight_max, axis=1).apply(highlight_min, axis=1).apply(highlight_mean, axis=1)\n",
    "\n",
    "performance_df\n",
    "# On affiche le résultat pour chaque modèle, les performances sont measuré sur le dataset d'entrainement et du test\n",
    "# Les cases vertes représentent le modèle qui a obtenu le score le plus haut selon la measure  correspondante"
   ]
  },
  {
   "cell_type": "markdown",
   "id": "XszTHSwuwlJ5",
   "metadata": {
    "id": "XszTHSwuwlJ5"
   },
   "source": [
    "# Interprétation"
   ]
  },
  {
   "cell_type": "markdown",
   "id": "Md7l6dpdzLP2",
   "metadata": {
    "id": "Md7l6dpdzLP2"
   },
   "source": [
    "## **Analyse de performance d'entrainement**"
   ]
  },
  {
   "cell_type": "markdown",
   "id": "b1rGkMo1zKXW",
   "metadata": {
    "id": "b1rGkMo1zKXW"
   },
   "source": [
    "### **Analyse de performances des modèles sur les données d'entraînement**\n",
    "\n",
    "*    **Decision Tree** (**99.58%**) et Random Forest (**99.08%**) : Ces modèles continuent de montrer des performances élevées, bien qu'il puisse y avoir une légère baisse par rapport à la matrice X seule.\n",
    "*    **Linear SVM** (**97.97%**) : Bien que légèrement inférieure, la performance reste élevée.\n",
    "*    Les modèles basés sur l'analyse disciminante, **Quadratic Discriminant Analysis** et **Linear Discriminant Analysis**, montrent de meilleures performances d'entrainement (**99,3%** et **98,75%** respectivement).\n",
    "*    **Logistic Regression** et **Non-Linear SVM** montrent une très bonne performance de (**95,93%**) et (**95,15%**) respectivement.\n",
    "*    D'autre part, les modèles **Gaussian Naive Bayes** et **K-Nearest Neighbours** obtiennent des performances raisonnables de (**88,22%**) et (**87,19%**) respectivement.\n",
    "*    De l'autre côte, AdaBoost a eu de mauvaises performances avec une accuracy de (**66,20%**)."
   ]
  },
  {
   "cell_type": "markdown",
   "id": "zLidJD2fu1rz",
   "metadata": {
    "id": "zLidJD2fu1rz"
   },
   "source": [
    "### **Analyse de performances des modèles sur les données de test**\n",
    "\n",
    "*    Nous remarquons de hautes performances de test quand on entraine nos modèles sur la matrice M que sur la matrice X seulement.\n",
    "*    Le modèle Logistic Regression a obtenu le meilleur score de performance de test de **83,76%**.\n",
    "*    Les modèles **Linear SVM**, **K-Nearest Neighbors**, **Non-Linear SVM** et **Gradient Boosting** ont obtenu de bons scores de performance sur les données de test (**81,18%** , **81,91%**, **80,99%** et **80,62%** respectivement).\n",
    "*    De l'autre côté, les modèles de type arbre (**Decision Tree** et **Random Froests**) ont obtenu des performances raisonnables de (**79,15%**) et (**70,47%**). Même chose s'applique sur les modèles **Gaussian Naive Bayes** et **Linear Descirminent Analysis** avec un score de (**71%,95%**) et (**71,03%**) respectivement.\n",
    "*    Le modèle **Quadratic Discriminenet Analysis (QDA)** et  **AdaBoost** ont toujours obtenu de mauvaise performance de test. Par contre, les score obtenus en l'entrainant sur la matrice M est beaucoup mieux que sur la matrice X seulement."
   ]
  },
  {
   "cell_type": "markdown",
   "id": "v1Wz8ioXu1ob",
   "metadata": {
    "id": "v1Wz8ioXu1ob"
   },
   "source": [
    "## **Interprétation et conclusions atteintes**"
   ]
  },
  {
   "cell_type": "markdown",
   "id": "1Bt5slZ_wnDX",
   "metadata": {
    "id": "1Bt5slZ_wnDX"
   },
   "source": [
    "L'interprétation des résultats obtenus sur la matrice M qui combine les informations de la matrice d'adjacence W et la matrice d'attributs X, met en lumière plusieurs points intéressants :\n",
    "\n",
    "*   **Amélioration des Performances avec la Matrice M :** Les résultats montrent généralement une amélioration des performances de test lors de l'entraînement des modèles sur la matrice M par rapport à la matrice X seule. Cela suggère que l'intégration des relations entre les individus (représentées par la matrice d'adjacence W) contribue positivement à la capacité de classification des modèles.\n",
    "\n",
    "*   **Performance Élevée des Modèles Basés sur Arbres :** Les modèles basés sur les arbres, tels que Decision Tree et Random Forest, présentent des performances élevées sur les données d'entraînement, mais montrent des performances légèrement inférieures sur les données de test. Cela peut indiquer un risque de surajustement aux données d'entraînement.\n",
    "\n",
    "\n",
    "*   **SVM et Modèles de Discrimination Linéaire :** Les modèles basés sur SVM linéaire et les analyses discriminantes (Quadratic Discriminant Analysis et Linear Discriminant Analysis) montrent de bonnes performances, suggérant qu'ils peuvent bien généraliser à de nouvelles données.\n",
    "\n",
    "*   **Impact Positif de la Relation entre Variables :** Les modèles basés sur l'analyse des relations entre les variables, tels que Linear SVM, Non-Linear SVM, et Gradient Boosting, montrent de bonnes performances, indiquant que l'incorporation des relations entre les individus améliore la capacité de ces modèles à généraliser.\n",
    "\n",
    "*   **Faible Performance d'AdaBoost :** AdaBoost montre des performances relativement faibles sur les deux ensembles de données. Cela peut être dû à une sensibilité accrue au bruit dans les données ou à une difficulté à exploiter les relations complexes entre les individus.\n",
    "\n",
    "*   **Meilleure Performance de Logistic Regression :** Logistic Regression se démarque avec une performance élevée sur les données de test. Cela suggère que ce modèle simple mais puissant peut bien généraliser même avec l'introduction de relations complexes entre les individus.\n",
    "\n",
    "*   **Rôle des Relations Entre Variables :** Les résultats indiquent que l'incorporation des relations entre les individus, représentées par la matrice d'adjacence, fournit des informations utiles pour la classification. Les modèles qui tirent parti de ces relations semblent mieux généraliser et obtenir de meilleures performances sur de nouvelles données.\n",
    "\n",
    "En conclusion, l'analyse comparative des performances des modèles sur les données relationnelles de Cora révèle que l'introduction des relations entre les individus améliore globalement la capacité de classification des modèles. Cependant, il est essentiel de choisir des modèles qui peuvent exploiter efficacement ces relations sans surajustement aux données d'entraînement. La nature spécifique de l'ensemble de données, avec ses liens de citation et ses attributs de texte, nécessite une approche soigneuse pour exploiter pleinement les informations contenues dans les données relationnelles."
   ]
  },
  {
   "cell_type": "markdown",
   "id": "3837c973-bfdc-477b-a9b4-74a37a2f47eb",
   "metadata": {
    "id": "3837c973-bfdc-477b-a9b4-74a37a2f47eb"
   },
   "source": [
    "## 3 - Discussion d’autres idées pour combiner et aligner les deux types d’information."
   ]
  },
  {
   "cell_type": "markdown",
   "id": "L9wVF0q0Tog_",
   "metadata": {
    "id": "L9wVF0q0Tog_"
   },
   "source": [
    "Dans cette section, nous proposons l'utilisation d'un modèle spécifique appelé **GNN (Graph Neural Network)**. Le **GNN (Graph Neural Network)** est un type de modèle conçu pour traiter des données représentées sous forme de graphe, où les nœuds du graphe représentent des entités (dans ce cas, des publications) et les arêtes représentent des relations (citations entre publications). Ceci va regrouper les deux types d'informations qu'on a.\n",
    "\n",
    "Dans cette solution, nous commençons par créer notre graphe, la matrice d'adjacence W est utilisée pour créer un graphe où les arêtes représentent les relations entre les publications. Chaque nœud est associé à un vecteur de mots représentant les caractéristiques de la publication. Le GNN prend en compte à la fois les caractéristiques des nœuds (matrice X) et les relations entre les nœuds (matrice W) pour apprendre des représentations informatives.\n",
    "\n",
    "Par la suite, nous calculons les embeddings des nœuds. Ils sont obtenus en passant les données à travers le modèle GNN. Ces embeddings captent des informations importantes sur les publications en tenant compte de leurs caractéristiques individuelles et de leurs relations avec d'autres publications via les citations.\n",
    "\n",
    "Les embeddings des nœuds sont utilisés comme caractéristiques pour entraîner les différents modèles de classification vus dans les sections précédentes."
   ]
  },
  {
   "cell_type": "code",
   "execution_count": null,
   "id": "PhRpFvTem6rY",
   "metadata": {
    "colab": {
     "base_uri": "https://localhost:8080/"
    },
    "id": "PhRpFvTem6rY",
    "outputId": "2b07d032-69e5-49d6-8848-3ed8970f21f9"
   },
   "outputs": [],
   "source": [
    "!pip install torch-geometric\n",
    "!pip install torch"
   ]
  },
  {
   "cell_type": "code",
   "execution_count": 24,
   "id": "ff1f4b83-865f-4144-bf3a-8f9f0ea8b3c1",
   "metadata": {
    "colab": {
     "base_uri": "https://localhost:8080/",
     "height": 318
    },
    "id": "ff1f4b83-865f-4144-bf3a-8f9f0ea8b3c1",
    "outputId": "62165ace-8b15-4798-a87d-142a4859356a"
   },
   "outputs": [
    {
     "data": {
      "text/html": [
       "<style type=\"text/css\">\n",
       "#T_669c7_row0_col1, #T_669c7_row1_col1, #T_669c7_row2_col1, #T_669c7_row3_col1, #T_669c7_row4_col0, #T_669c7_row5_col0, #T_669c7_row6_col0, #T_669c7_row7_col0 {\n",
       "  background-color: yellow;\n",
       "}\n",
       "#T_669c7_row0_col4, #T_669c7_row1_col4, #T_669c7_row2_col4, #T_669c7_row3_col4, #T_669c7_row4_col10, #T_669c7_row5_col10, #T_669c7_row6_col10, #T_669c7_row7_col10 {\n",
       "  background-color: green;\n",
       "}\n",
       "#T_669c7_row0_col5, #T_669c7_row1_col5, #T_669c7_row2_col5, #T_669c7_row3_col5, #T_669c7_row4_col2, #T_669c7_row5_col2, #T_669c7_row6_col2, #T_669c7_row7_col2 {\n",
       "  background-color: red;\n",
       "}\n",
       "</style>\n",
       "<table id=\"T_669c7\">\n",
       "  <thead>\n",
       "    <tr>\n",
       "      <th class=\"blank level0\" >&nbsp;</th>\n",
       "      <th id=\"T_669c7_level0_col0\" class=\"col_heading level0 col0\" >Logistic Regression</th>\n",
       "      <th id=\"T_669c7_level0_col1\" class=\"col_heading level0 col1\" >K-Nearest Neighbors</th>\n",
       "      <th id=\"T_669c7_level0_col2\" class=\"col_heading level0 col2\" >Decision Tree</th>\n",
       "      <th id=\"T_669c7_level0_col3\" class=\"col_heading level0 col3\" >Random Forest</th>\n",
       "      <th id=\"T_669c7_level0_col4\" class=\"col_heading level0 col4\" >Gradient Boosting</th>\n",
       "      <th id=\"T_669c7_level0_col5\" class=\"col_heading level0 col5\" >AdaBoost</th>\n",
       "      <th id=\"T_669c7_level0_col6\" class=\"col_heading level0 col6\" >Gaussian Naive Bayes</th>\n",
       "      <th id=\"T_669c7_level0_col7\" class=\"col_heading level0 col7\" >Linear Discriminant Analysis</th>\n",
       "      <th id=\"T_669c7_level0_col8\" class=\"col_heading level0 col8\" >Quadratic Discriminant Analysis</th>\n",
       "      <th id=\"T_669c7_level0_col9\" class=\"col_heading level0 col9\" >Linear SVM</th>\n",
       "      <th id=\"T_669c7_level0_col10\" class=\"col_heading level0 col10\" >Non-Linear SVM</th>\n",
       "    </tr>\n",
       "  </thead>\n",
       "  <tbody>\n",
       "    <tr>\n",
       "      <th id=\"T_669c7_level0_row0\" class=\"row_heading level0 row0\" >Accuracy_train</th>\n",
       "      <td id=\"T_669c7_row0_col0\" class=\"data row0 col0\" >0.646353</td>\n",
       "      <td id=\"T_669c7_row0_col1\" class=\"data row0 col1\" >0.826408</td>\n",
       "      <td id=\"T_669c7_row0_col2\" class=\"data row0 col2\" >0.861496</td>\n",
       "      <td id=\"T_669c7_row0_col3\" class=\"data row0 col3\" >0.963066</td>\n",
       "      <td id=\"T_669c7_row0_col4\" class=\"data row0 col4\" >0.979224</td>\n",
       "      <td id=\"T_669c7_row0_col5\" class=\"data row0 col5\" >0.584488</td>\n",
       "      <td id=\"T_669c7_row0_col6\" class=\"data row0 col6\" >0.597415</td>\n",
       "      <td id=\"T_669c7_row0_col7\" class=\"data row0 col7\" >0.698061</td>\n",
       "      <td id=\"T_669c7_row0_col8\" class=\"data row0 col8\" >0.913204</td>\n",
       "      <td id=\"T_669c7_row0_col9\" class=\"data row0 col9\" >0.665282</td>\n",
       "      <td id=\"T_669c7_row0_col10\" class=\"data row0 col10\" >0.896122</td>\n",
       "    </tr>\n",
       "    <tr>\n",
       "      <th id=\"T_669c7_level0_row1\" class=\"row_heading level0 row1\" >Precision_train</th>\n",
       "      <td id=\"T_669c7_row1_col0\" class=\"data row1 col0\" >0.646353</td>\n",
       "      <td id=\"T_669c7_row1_col1\" class=\"data row1 col1\" >0.826408</td>\n",
       "      <td id=\"T_669c7_row1_col2\" class=\"data row1 col2\" >0.861496</td>\n",
       "      <td id=\"T_669c7_row1_col3\" class=\"data row1 col3\" >0.963066</td>\n",
       "      <td id=\"T_669c7_row1_col4\" class=\"data row1 col4\" >0.979224</td>\n",
       "      <td id=\"T_669c7_row1_col5\" class=\"data row1 col5\" >0.584488</td>\n",
       "      <td id=\"T_669c7_row1_col6\" class=\"data row1 col6\" >0.597415</td>\n",
       "      <td id=\"T_669c7_row1_col7\" class=\"data row1 col7\" >0.698061</td>\n",
       "      <td id=\"T_669c7_row1_col8\" class=\"data row1 col8\" >0.913204</td>\n",
       "      <td id=\"T_669c7_row1_col9\" class=\"data row1 col9\" >0.665282</td>\n",
       "      <td id=\"T_669c7_row1_col10\" class=\"data row1 col10\" >0.896122</td>\n",
       "    </tr>\n",
       "    <tr>\n",
       "      <th id=\"T_669c7_level0_row2\" class=\"row_heading level0 row2\" >Recall_train</th>\n",
       "      <td id=\"T_669c7_row2_col0\" class=\"data row2 col0\" >0.646353</td>\n",
       "      <td id=\"T_669c7_row2_col1\" class=\"data row2 col1\" >0.826408</td>\n",
       "      <td id=\"T_669c7_row2_col2\" class=\"data row2 col2\" >0.861496</td>\n",
       "      <td id=\"T_669c7_row2_col3\" class=\"data row2 col3\" >0.963066</td>\n",
       "      <td id=\"T_669c7_row2_col4\" class=\"data row2 col4\" >0.979224</td>\n",
       "      <td id=\"T_669c7_row2_col5\" class=\"data row2 col5\" >0.584488</td>\n",
       "      <td id=\"T_669c7_row2_col6\" class=\"data row2 col6\" >0.597415</td>\n",
       "      <td id=\"T_669c7_row2_col7\" class=\"data row2 col7\" >0.698061</td>\n",
       "      <td id=\"T_669c7_row2_col8\" class=\"data row2 col8\" >0.913204</td>\n",
       "      <td id=\"T_669c7_row2_col9\" class=\"data row2 col9\" >0.665282</td>\n",
       "      <td id=\"T_669c7_row2_col10\" class=\"data row2 col10\" >0.896122</td>\n",
       "    </tr>\n",
       "    <tr>\n",
       "      <th id=\"T_669c7_level0_row3\" class=\"row_heading level0 row3\" >F1 Score_train</th>\n",
       "      <td id=\"T_669c7_row3_col0\" class=\"data row3 col0\" >0.646353</td>\n",
       "      <td id=\"T_669c7_row3_col1\" class=\"data row3 col1\" >0.826408</td>\n",
       "      <td id=\"T_669c7_row3_col2\" class=\"data row3 col2\" >0.861496</td>\n",
       "      <td id=\"T_669c7_row3_col3\" class=\"data row3 col3\" >0.963066</td>\n",
       "      <td id=\"T_669c7_row3_col4\" class=\"data row3 col4\" >0.979224</td>\n",
       "      <td id=\"T_669c7_row3_col5\" class=\"data row3 col5\" >0.584488</td>\n",
       "      <td id=\"T_669c7_row3_col6\" class=\"data row3 col6\" >0.597415</td>\n",
       "      <td id=\"T_669c7_row3_col7\" class=\"data row3 col7\" >0.698061</td>\n",
       "      <td id=\"T_669c7_row3_col8\" class=\"data row3 col8\" >0.913204</td>\n",
       "      <td id=\"T_669c7_row3_col9\" class=\"data row3 col9\" >0.665282</td>\n",
       "      <td id=\"T_669c7_row3_col10\" class=\"data row3 col10\" >0.896122</td>\n",
       "    </tr>\n",
       "    <tr>\n",
       "      <th id=\"T_669c7_level0_row4\" class=\"row_heading level0 row4\" >Accuracy</th>\n",
       "      <td id=\"T_669c7_row4_col0\" class=\"data row4 col0\" >0.654982</td>\n",
       "      <td id=\"T_669c7_row4_col1\" class=\"data row4 col1\" >0.693727</td>\n",
       "      <td id=\"T_669c7_row4_col2\" class=\"data row4 col2\" >0.439114</td>\n",
       "      <td id=\"T_669c7_row4_col3\" class=\"data row4 col3\" >0.533210</td>\n",
       "      <td id=\"T_669c7_row4_col4\" class=\"data row4 col4\" >0.706642</td>\n",
       "      <td id=\"T_669c7_row4_col5\" class=\"data row4 col5\" >0.547970</td>\n",
       "      <td id=\"T_669c7_row4_col6\" class=\"data row4 col6\" >0.566421</td>\n",
       "      <td id=\"T_669c7_row4_col7\" class=\"data row4 col7\" >0.636531</td>\n",
       "      <td id=\"T_669c7_row4_col8\" class=\"data row4 col8\" >0.715867</td>\n",
       "      <td id=\"T_669c7_row4_col9\" class=\"data row4 col9\" >0.669742</td>\n",
       "      <td id=\"T_669c7_row4_col10\" class=\"data row4 col10\" >0.741697</td>\n",
       "    </tr>\n",
       "    <tr>\n",
       "      <th id=\"T_669c7_level0_row5\" class=\"row_heading level0 row5\" >Precision</th>\n",
       "      <td id=\"T_669c7_row5_col0\" class=\"data row5 col0\" >0.654982</td>\n",
       "      <td id=\"T_669c7_row5_col1\" class=\"data row5 col1\" >0.693727</td>\n",
       "      <td id=\"T_669c7_row5_col2\" class=\"data row5 col2\" >0.439114</td>\n",
       "      <td id=\"T_669c7_row5_col3\" class=\"data row5 col3\" >0.533210</td>\n",
       "      <td id=\"T_669c7_row5_col4\" class=\"data row5 col4\" >0.706642</td>\n",
       "      <td id=\"T_669c7_row5_col5\" class=\"data row5 col5\" >0.547970</td>\n",
       "      <td id=\"T_669c7_row5_col6\" class=\"data row5 col6\" >0.566421</td>\n",
       "      <td id=\"T_669c7_row5_col7\" class=\"data row5 col7\" >0.636531</td>\n",
       "      <td id=\"T_669c7_row5_col8\" class=\"data row5 col8\" >0.715867</td>\n",
       "      <td id=\"T_669c7_row5_col9\" class=\"data row5 col9\" >0.669742</td>\n",
       "      <td id=\"T_669c7_row5_col10\" class=\"data row5 col10\" >0.741697</td>\n",
       "    </tr>\n",
       "    <tr>\n",
       "      <th id=\"T_669c7_level0_row6\" class=\"row_heading level0 row6\" >Recall</th>\n",
       "      <td id=\"T_669c7_row6_col0\" class=\"data row6 col0\" >0.654982</td>\n",
       "      <td id=\"T_669c7_row6_col1\" class=\"data row6 col1\" >0.693727</td>\n",
       "      <td id=\"T_669c7_row6_col2\" class=\"data row6 col2\" >0.439114</td>\n",
       "      <td id=\"T_669c7_row6_col3\" class=\"data row6 col3\" >0.533210</td>\n",
       "      <td id=\"T_669c7_row6_col4\" class=\"data row6 col4\" >0.706642</td>\n",
       "      <td id=\"T_669c7_row6_col5\" class=\"data row6 col5\" >0.547970</td>\n",
       "      <td id=\"T_669c7_row6_col6\" class=\"data row6 col6\" >0.566421</td>\n",
       "      <td id=\"T_669c7_row6_col7\" class=\"data row6 col7\" >0.636531</td>\n",
       "      <td id=\"T_669c7_row6_col8\" class=\"data row6 col8\" >0.715867</td>\n",
       "      <td id=\"T_669c7_row6_col9\" class=\"data row6 col9\" >0.669742</td>\n",
       "      <td id=\"T_669c7_row6_col10\" class=\"data row6 col10\" >0.741697</td>\n",
       "    </tr>\n",
       "    <tr>\n",
       "      <th id=\"T_669c7_level0_row7\" class=\"row_heading level0 row7\" >F1 Score</th>\n",
       "      <td id=\"T_669c7_row7_col0\" class=\"data row7 col0\" >0.654982</td>\n",
       "      <td id=\"T_669c7_row7_col1\" class=\"data row7 col1\" >0.693727</td>\n",
       "      <td id=\"T_669c7_row7_col2\" class=\"data row7 col2\" >0.439114</td>\n",
       "      <td id=\"T_669c7_row7_col3\" class=\"data row7 col3\" >0.533210</td>\n",
       "      <td id=\"T_669c7_row7_col4\" class=\"data row7 col4\" >0.706642</td>\n",
       "      <td id=\"T_669c7_row7_col5\" class=\"data row7 col5\" >0.547970</td>\n",
       "      <td id=\"T_669c7_row7_col6\" class=\"data row7 col6\" >0.566421</td>\n",
       "      <td id=\"T_669c7_row7_col7\" class=\"data row7 col7\" >0.636531</td>\n",
       "      <td id=\"T_669c7_row7_col8\" class=\"data row7 col8\" >0.715867</td>\n",
       "      <td id=\"T_669c7_row7_col9\" class=\"data row7 col9\" >0.669742</td>\n",
       "      <td id=\"T_669c7_row7_col10\" class=\"data row7 col10\" >0.741697</td>\n",
       "    </tr>\n",
       "  </tbody>\n",
       "</table>\n"
      ],
      "text/plain": [
       "<pandas.io.formats.style.Styler at 0x2508c751c10>"
      ]
     },
     "execution_count": 24,
     "metadata": {},
     "output_type": "execute_result"
    }
   ],
   "source": [
    "import torch\n",
    "import torch.nn as nn\n",
    "import torch.nn.functional as F\n",
    "from torch_geometric.nn import GCNConv\n",
    "from torch_geometric.data import Data\n",
    "\n",
    "# Supposons que W_matrix est la matrice de relations et X_matrix est la matrice de caractéristiques\n",
    "\n",
    "# Convertir les matrices en tensors PyTorch\n",
    "W_tensor = torch.Tensor(W_matrix)\n",
    "X_tensor = torch.Tensor(X_matrix)\n",
    "\n",
    "# Créer un graphe à partir de la matrice de relations\n",
    "edge_index = torch.nonzero(W_tensor, as_tuple=False).t().contiguous()\n",
    "\n",
    "# Créer des données pour le GNN\n",
    "data = Data(x=X_tensor, edge_index=edge_index)\n",
    "\n",
    "# Définir un modèle GNN simple\n",
    "class GNNModel(nn.Module):\n",
    "    def __init__(self, in_channels, out_channels):\n",
    "        super(GNNModel, self).__init__()\n",
    "        self.conv1 = GCNConv(in_channels, out_channels)\n",
    "\n",
    "    def forward(self, data):\n",
    "        x, edge_index = data.x, data.edge_index\n",
    "        x = F.relu(self.conv1(x, edge_index))\n",
    "        return x\n",
    "\n",
    "# Instancier et entraîner le modèle GNN\n",
    "gnn_model = GNNModel(in_channels=X_matrix.shape[1], out_channels=64)\n",
    "\n",
    "# Obtenir les embeddings des nœuds\n",
    "node_embeddings = gnn_model(data)\n",
    "\n",
    "# Supposons que node_embeddings est la sortie du modèle GNN\n",
    "\n",
    "# Convertir les embeddings des nœuds en numpy array\n",
    "node_embeddings_np = node_embeddings.detach().numpy()\n",
    "\n",
    "# Assumer que y est la variable cible\n",
    "y = classes\n",
    "\n",
    "# Diviser les données en ensembles d'entraînement et de test\n",
    "X_train, X_test, y_train, y_test = train_test_split(node_embeddings_np, y, test_size=0.2, random_state=42)\n",
    "\n",
    "# Créer un dataframe pour stocker les résultats\n",
    "performance_df = {}\n",
    "\n",
    "models = [\n",
    "    ('Logistic Regression', LogisticRegression(random_state=42)),\n",
    "    ('K-Nearest Neighbors', KNeighborsClassifier()),\n",
    "    ('Decision Tree', DecisionTreeClassifier(max_depth=10,random_state=42)),\n",
    "    ('Random Forest', RandomForestClassifier(n_estimators=5,random_state=42)),\n",
    "    ('Gradient Boosting', GradientBoostingClassifier(random_state=42)),\n",
    "    ('AdaBoost', AdaBoostClassifier(random_state=42)),\n",
    "    ('Gaussian Naive Bayes', GaussianNB()),\n",
    "    ('Linear Discriminant Analysis', LinearDiscriminantAnalysis()),\n",
    "    ('Quadratic Discriminant Analysis', QuadraticDiscriminantAnalysis(reg_param=1e-6)),\n",
    "    ('Linear SVM', SVC(kernel='linear',random_state=42)),\n",
    "    ('Non-Linear SVM', SVC(kernel=\"rbf\",random_state=42))\n",
    "]\n",
    "\n",
    "# Boucle sur les modèles\n",
    "for model_name, model in models:\n",
    "\n",
    "    # Entraîner le modèle sur l'ensemble d'entraînement\n",
    "    model.fit(X_train, y_train)\n",
    "    y_train_pred = model.predict(X_train)\n",
    "    # Faire des prédictions sur l'ensemble de test\n",
    "    y_pred = model.predict(X_test)\n",
    "\n",
    "    # Mesures de performance sur le dataset de  test\n",
    "    accuracy = accuracy_score(y_test, y_pred)\n",
    "    precision = precision_score(y_test, y_pred,average='micro')\n",
    "    recall = recall_score(y_test, y_pred,average='micro')\n",
    "    f1 = f1_score(y_test, y_pred,average='micro')\n",
    "    # Mesures de performance sur le dataset d'entrainement\n",
    "    accuracy1 = accuracy_score(y_train, y_train_pred)\n",
    "    precision1 = precision_score(y_train, y_train_pred,average='micro')\n",
    "    recall1 = recall_score(y_train, y_train_pred,average='micro')\n",
    "    f11 = f1_score(y_train, y_train_pred,average='micro')\n",
    "    # Stocker les résultats dans le dataframe\n",
    "    performance_df[model_name]={\n",
    "        'Accuracy_train': accuracy1,\n",
    "        'Precision_train': precision1,\n",
    "        'Recall_train': recall1,\n",
    "        'F1 Score_train': f11,\n",
    "        'Accuracy': accuracy,\n",
    "        'Precision': precision,\n",
    "        'Recall': recall,\n",
    "        'F1 Score': f1\n",
    "    }\n",
    "\n",
    "# Afficher le dataframe comparatif de performances\n",
    "performance_df = pd.DataFrame(performance_df)\n",
    "# Fonction pour colorer la cellule avec la valeur la plus élevée dans chaque ligne\n",
    "def highlight_max(s):\n",
    "    is_max = s == s.max()\n",
    "    return ['background-color: green' if v else '' for v in is_max]\n",
    "\n",
    "# Fonction pour colorer la cellule avec la valeur la plus basse dans chaque ligne\n",
    "def highlight_min(s):\n",
    "    is_min = s == s.min()\n",
    "    return ['background-color: red' if v else '' for v in is_min]\n",
    "\n",
    "# Fonction pour colorer la cellule avec la valeur médiane dans chaque ligne\n",
    "def highlight_mean(s):\n",
    "    is_mean = s == s.median()\n",
    "    return ['background-color: yellow' if v else '' for v in is_mean]\n",
    "\n",
    "performance_df = performance_df.style.apply(highlight_max, axis=1).apply(highlight_min, axis=1).apply(highlight_mean, axis=1)\n",
    "\n",
    "performance_df\n",
    "# On affiche le résultat pour chaque modèle, les performances sont measurées sur le dataset d'entrainement et du test\n",
    "# Les cases vertes représentent le modèle qui a obtenu le score le plus haut selon la mesure correspondante"
   ]
  },
  {
   "cell_type": "markdown",
   "id": "QrnST0CDSgUm",
   "metadata": {
    "id": "QrnST0CDSgUm"
   },
   "source": [
    "# Interprétation"
   ]
  },
  {
   "cell_type": "markdown",
   "id": "GWap6sdOTG_S",
   "metadata": {
    "id": "GWap6sdOTG_S"
   },
   "source": [
    "Dans cette partie, l'interprétation se concentrera sur les aspects spécifiques liés à l'utilisation du GNN pour l'apprentissage sur nos données relationnelles. D'après le tableau affiché ci-dessus, nous observons les points clés suivants :\n",
    "\n",
    "*   **Importance des Embeddings de Nœuds :** Les résultats soulignent que les embeddings de nœuds, issus du GNN, sont des représentations cruciales pour la classification des publications.\n",
    "\n",
    "*   **SVM Non Linéaire :** Avec le meilleur score de performance obtenu (**77,3%**), le SVM non-linéaire montre une bonne capacité de généralisation. Cela suggère que les embeddings de nœuds contiennent des informations pertinentes qui permettent au SVM de séparer efficacement les classes. De ce fait, la nécessité d'une SVM non linéaire suggère que des relations non linéaires entre les publications, apprises par le GNN, plus complexes dans les embeddings peuvent également contribuer à une meilleure classification.\n",
    "\n",
    "*  **Amélioration du modèle Quadratic Discriminant Analysis (QDA):** Nous remarquons une très bonne amélioration des performances de ce modèle par rapport au précédentes tentatives d'entrainement sur la matrice X et M. Sa mesure a atteint une accuracy de **73,06%**, ce qui révèle la capacité du modèle QDA à capturer des relations plus complexes entre les caractéristiques.\n",
    "\n",
    "*  **Progrès remarquable du modèle Gradient Boosting:** Les modèles de boosting, tels que Gradient Boosting, construisent des modèles successifs, chaque modèle corrigeant les erreurs du précédent. La performance du Gradient Boosting ont atteint une valeur de (**71,58%**), ce qui révèle sa capacité à apprendre des relations complexes dans les embeddings qui n'ont pas été correctement capturées par d'autres modèles.\n",
    "\n",
    "*   **SVM Linéaire et Régression Logistique :** La régression logistique a démontré des performances élevées sur les données de test, ce qui indique que les embeddings de nœuds issus du GNN contiennent des informations linéaires importantes pour la classification. De l'autre côté, le SVM linéaire montre une capacité significative de généralisation. Par conséquent, ces modèles simples ont bien performé, indiquant que les relations linéaires dans l'espace des embeddings sont suffisantes pour une classification efficace.\n",
    "\n",
    "*   **Défi des Modèles Basés sur Arbres :** : Les performances moins élevées de ces modèles (Decision Tree & Random Forest) suggèrent une possible sensibilité au surajustement. La complexité des modèles basés sur des arbres peut conduire à une adaptation excessive aux données d'entraînement. Ceci souligne l'importance du choix du modèle en fonction de la complexité des données.\n",
    "\n",
    "*   **K-Nearest Neighbours :** Le KNN entrainé sur les embeddings générés par notre GNN obtient une mesure de performance accdptable de **67,7%**. Les performances du KNN indiquent la proximité des embeddings de nœuds dans l'espace, suggérant que des publications similaires dans le graphe peuvent partager des caractéristiques similaires. Ce qui peut être exploré en variant la valeur de K pour explorer la similarité entre les proches publications.\n",
    "\n",
    "*   **Gaussian Naive Bayes:** avec une performance de **57,19%**, ce modèle ne convient pas parfaitement à notre ensemble de données, il utilise les caractéristiques de manière probabiliste pour classer les publications. C'est un modèle simple et rapide qui peut fonctionner efficacement dans des cas d'utilisation simples, mais il peut ne pas être bien adapté à la complexité des embeddings générés par des modèles de graphe profond tels que les GNN. Des modèles plus complexes, capables de capturer des relations non linéaires et des structures hiérarchiques, sont généralement préférés pour exploiter pleinement les informations contenues dans de tels embeddings.\n",
    "\n",
    "*   **Mauvaises performances de AdaBoost:** Même si les performances d'AdaBoost sont améliorés par rapport à l'entrainement sur la matrice X et M, elles restent basses, et elles soulignent la sensibilité du modèle au bruit dans les données ou à des erreurs de classification initiales. Ce n'est pas le bon modèle pour cette tâches de classification."
   ]
  },
  {
   "cell_type": "markdown",
   "id": "G0NtpV5OhvFR",
   "metadata": {
    "id": "G0NtpV5OhvFR"
   },
   "source": [
    "# Suggestions pour l'amélioration de cette solution\n",
    "\n",
    "\n"
   ]
  },
  {
   "cell_type": "markdown",
   "id": "MWhy5hE8hyAw",
   "metadata": {
    "id": "MWhy5hE8hyAw"
   },
   "source": [
    "Afin d'améliorer notre solution, nous proposons les idées suivantes :\n",
    "\n",
    "*   **Exploration d'Architectures de GNN :** Tester des architectures de GNN plus complexes avec des couches de convolution supplémentaires ou des mécanismes d'attention pour capturer des relations plus fines.\n",
    "*   **Optimisation des Hyperparamètres :** Optimiser les hyperparamètres du GNN pour améliorer la qualité des embeddings de nœuds.\n",
    "*   **Étude des Relations de Citations :** Approfondir l'analyse des relations de citations apprises par le GNN pour mieux comprendre comment ces relations influencent la classification.\n",
    "\n",
    "En résumé, les modèles de classification ont montré des performances variées, soulignant l'importance des embeddings de nœuds générés par le GNN pour la classification efficace des données relationnelles de Cora. Chaque modèle offre des perspectives uniques sur la manière dont les informations sont exploitées pour la tâche de classification."
   ]
  }
 ],
 "metadata": {
  "colab": {
   "provenance": []
  },
  "kernelspec": {
   "display_name": "Python 3 (ipykernel)",
   "language": "python",
   "name": "python3"
  },
  "language_info": {
   "codemirror_mode": {
    "name": "ipython",
    "version": 3
   },
   "file_extension": ".py",
   "mimetype": "text/x-python",
   "name": "python",
   "nbconvert_exporter": "python",
   "pygments_lexer": "ipython3",
   "version": "3.11.5"
  }
 },
 "nbformat": 4,
 "nbformat_minor": 5
}
